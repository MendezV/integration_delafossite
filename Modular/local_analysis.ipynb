{
 "cells": [
  {
   "cell_type": "code",
   "execution_count": 1,
   "metadata": {},
   "outputs": [
    {
     "name": "stdout",
     "output_type": "stream",
     "text": [
      "Populating the interactive namespace from numpy and matplotlib\n"
     ]
    }
   ],
   "source": [
    "%pylab inline\n",
    "import numpy as np\n",
    "import pandas as pd\n",
    "import os\n",
    "import sys\n",
    "sys.path.insert(0, '/home/jfm343/Documents/Delafossites/integration_delafossite/Modular')\n",
    "import Dispersion\n",
    "import Lattice\n",
    "from scipy import linalg as la\n",
    "import seaborn as sns"
   ]
  },
  {
   "cell_type": "code",
   "execution_count": 2,
   "metadata": {},
   "outputs": [],
   "source": [
    "# pathMAC=\"/Users/jfmv/Documents/Proyectos/Moire-Phonon_QMC/BM_bandstructure\"\n",
    "pathchow='/home/jfm343/Documents/Delafossites/integration_delafossite/Modular/'\n",
    "# pathpc='/home/juan/Documents/Projects/BM_bandstructure'\n",
    "pathy=pathchow"
   ]
  },
  {
   "cell_type": "code",
   "execution_count": 3,
   "metadata": {},
   "outputs": [
    {
     "ename": "FileNotFoundError",
     "evalue": "File /home/jfm343/Documents/Delafossites/integration_delafossite/Modular/BM_data2022-04-27-12-01-44.h5 does not exist",
     "output_type": "error",
     "traceback": [
      "\u001b[0;31m---------------------------------------------------------------------------\u001b[0m",
      "\u001b[0;31mFileNotFoundError\u001b[0m                         Traceback (most recent call last)",
      "\u001b[0;32m<ipython-input-3-15d3580467f6>\u001b[0m in \u001b[0;36m<module>\u001b[0;34m\u001b[0m\n\u001b[1;32m      6\u001b[0m \u001b[0;31m# path=pathy+'1000_1500_15_success_data2022-04-27-13-56-43.h5'\u001b[0m\u001b[0;34m\u001b[0m\u001b[0;34m\u001b[0m\u001b[0;34m\u001b[0m\u001b[0m\n\u001b[1;32m      7\u001b[0m \u001b[0;31m# path=pathy+'data2022-04-27-14-04-59.h5'\u001b[0m\u001b[0;34m\u001b[0m\u001b[0;34m\u001b[0m\u001b[0;34m\u001b[0m\u001b[0m\n\u001b[0;32m----> 8\u001b[0;31m \u001b[0mdf\u001b[0m \u001b[0;34m=\u001b[0m \u001b[0mpd\u001b[0m\u001b[0;34m.\u001b[0m\u001b[0mread_hdf\u001b[0m\u001b[0;34m(\u001b[0m\u001b[0mpath\u001b[0m\u001b[0;34m)\u001b[0m\u001b[0;34m\u001b[0m\u001b[0;34m\u001b[0m\u001b[0m\n\u001b[0m\u001b[1;32m      9\u001b[0m \u001b[0;34m\u001b[0m\u001b[0m\n\u001b[1;32m     10\u001b[0m \u001b[0;34m\u001b[0m\u001b[0m\n",
      "\u001b[0;32m~/anaconda3/lib/python3.8/site-packages/pandas/io/pytables.py\u001b[0m in \u001b[0;36mread_hdf\u001b[0;34m(path_or_buf, key, mode, errors, where, start, stop, columns, iterator, chunksize, **kwargs)\u001b[0m\n\u001b[1;32m    395\u001b[0m \u001b[0;34m\u001b[0m\u001b[0m\n\u001b[1;32m    396\u001b[0m         \u001b[0;32mif\u001b[0m \u001b[0;32mnot\u001b[0m \u001b[0mexists\u001b[0m\u001b[0;34m:\u001b[0m\u001b[0;34m\u001b[0m\u001b[0;34m\u001b[0m\u001b[0m\n\u001b[0;32m--> 397\u001b[0;31m             \u001b[0;32mraise\u001b[0m \u001b[0mFileNotFoundError\u001b[0m\u001b[0;34m(\u001b[0m\u001b[0;34mf\"File {path_or_buf} does not exist\"\u001b[0m\u001b[0;34m)\u001b[0m\u001b[0;34m\u001b[0m\u001b[0;34m\u001b[0m\u001b[0m\n\u001b[0m\u001b[1;32m    398\u001b[0m \u001b[0;34m\u001b[0m\u001b[0m\n\u001b[1;32m    399\u001b[0m         \u001b[0mstore\u001b[0m \u001b[0;34m=\u001b[0m \u001b[0mHDFStore\u001b[0m\u001b[0;34m(\u001b[0m\u001b[0mpath_or_buf\u001b[0m\u001b[0;34m,\u001b[0m \u001b[0mmode\u001b[0m\u001b[0;34m=\u001b[0m\u001b[0mmode\u001b[0m\u001b[0;34m,\u001b[0m \u001b[0merrors\u001b[0m\u001b[0;34m=\u001b[0m\u001b[0merrors\u001b[0m\u001b[0;34m,\u001b[0m \u001b[0;34m**\u001b[0m\u001b[0mkwargs\u001b[0m\u001b[0;34m)\u001b[0m\u001b[0;34m\u001b[0m\u001b[0;34m\u001b[0m\u001b[0m\n",
      "\u001b[0;31mFileNotFoundError\u001b[0m: File /home/jfm343/Documents/Delafossites/integration_delafossite/Modular/BM_data2022-04-27-12-01-44.h5 does not exist"
     ]
    }
   ],
   "source": [
    "path=pathy+'BM_data2022-04-27-12-01-44.h5'\n",
    "# path=pathy+'AnisotropicSamp_data2022-04-27-12-38-00.h5'\n",
    "# path=pathy+'Data_novol_data2022-04-27-12-43-36.h5'\n",
    "# path=pathy+'1000_1500__10_data2022-04-27-13-36-38.h5'\n",
    "# path=pathy+'1000_1500_5data2022-04-27-13-42-18.h5'\n",
    "# path=pathy+'1000_1500_15_success_data2022-04-27-13-56-43.h5'\n",
    "# path=pathy+'data2022-04-27-14-04-59.h5'\n",
    "df = pd.read_hdf(path)\n",
    "\n",
    "    \n",
    "\n"
   ]
  },
  {
   "cell_type": "code",
   "execution_count": 27,
   "metadata": {},
   "outputs": [
    {
     "data": {
      "text/html": [
       "<div>\n",
       "<style scoped>\n",
       "    .dataframe tbody tr th:only-of-type {\n",
       "        vertical-align: middle;\n",
       "    }\n",
       "\n",
       "    .dataframe tbody tr th {\n",
       "        vertical-align: top;\n",
       "    }\n",
       "\n",
       "    .dataframe thead th {\n",
       "        text-align: right;\n",
       "    }\n",
       "</style>\n",
       "<table border=\"1\" class=\"dataframe\">\n",
       "  <thead>\n",
       "    <tr style=\"text-align: right;\">\n",
       "      <th></th>\n",
       "      <th>theta</th>\n",
       "      <th>freq</th>\n",
       "      <th>SE</th>\n",
       "      <th>error</th>\n",
       "      <th>KFX</th>\n",
       "      <th>KFY</th>\n",
       "      <th>T</th>\n",
       "      <th>nu</th>\n",
       "      <th>intP</th>\n",
       "      <th>FS_point</th>\n",
       "      <th>dispname</th>\n",
       "      <th>t1</th>\n",
       "      <th>t2</th>\n",
       "      <th>SFname</th>\n",
       "      <th>J</th>\n",
       "    </tr>\n",
       "  </thead>\n",
       "  <tbody>\n",
       "    <tr>\n",
       "      <th>0</th>\n",
       "      <td>-1.586840</td>\n",
       "      <td>0.01034</td>\n",
       "      <td>5.005746</td>\n",
       "      <td>0.010387</td>\n",
       "      <td>-0.044546</td>\n",
       "      <td>-2.776214</td>\n",
       "      <td>1.0</td>\n",
       "      <td>0.5</td>\n",
       "      <td>1000</td>\n",
       "      <td>101</td>\n",
       "      <td>lattice_disp</td>\n",
       "      <td>54.932302</td>\n",
       "      <td>-10.444874</td>\n",
       "      <td>fit_SF_func_theta_[ -90.92  -94.89  -98.48 -10...</td>\n",
       "      <td>10.34</td>\n",
       "    </tr>\n",
       "    <tr>\n",
       "      <th>1</th>\n",
       "      <td>-1.656107</td>\n",
       "      <td>0.01034</td>\n",
       "      <td>4.970496</td>\n",
       "      <td>0.017336</td>\n",
       "      <td>-0.235202</td>\n",
       "      <td>-2.750303</td>\n",
       "      <td>1.0</td>\n",
       "      <td>0.5</td>\n",
       "      <td>1000</td>\n",
       "      <td>101</td>\n",
       "      <td>lattice_disp</td>\n",
       "      <td>54.932302</td>\n",
       "      <td>-10.444874</td>\n",
       "      <td>fit_SF_func_theta_[ -90.92  -94.89  -98.48 -10...</td>\n",
       "      <td>10.34</td>\n",
       "    </tr>\n",
       "    <tr>\n",
       "      <th>2</th>\n",
       "      <td>-1.718768</td>\n",
       "      <td>0.01034</td>\n",
       "      <td>4.908661</td>\n",
       "      <td>0.027707</td>\n",
       "      <td>-0.402694</td>\n",
       "      <td>-2.701547</td>\n",
       "      <td>1.0</td>\n",
       "      <td>0.5</td>\n",
       "      <td>1000</td>\n",
       "      <td>101</td>\n",
       "      <td>lattice_disp</td>\n",
       "      <td>54.932302</td>\n",
       "      <td>-10.444874</td>\n",
       "      <td>fit_SF_func_theta_[ -90.92  -94.89  -98.48 -10...</td>\n",
       "      <td>10.34</td>\n",
       "    </tr>\n",
       "    <tr>\n",
       "      <th>3</th>\n",
       "      <td>-1.778321</td>\n",
       "      <td>0.01034</td>\n",
       "      <td>4.836549</td>\n",
       "      <td>0.008196</td>\n",
       "      <td>-0.555932</td>\n",
       "      <td>-2.640307</td>\n",
       "      <td>1.0</td>\n",
       "      <td>0.5</td>\n",
       "      <td>1000</td>\n",
       "      <td>101</td>\n",
       "      <td>lattice_disp</td>\n",
       "      <td>54.932302</td>\n",
       "      <td>-10.444874</td>\n",
       "      <td>fit_SF_func_theta_[ -90.92  -94.89  -98.48 -10...</td>\n",
       "      <td>10.34</td>\n",
       "    </tr>\n",
       "    <tr>\n",
       "      <th>4</th>\n",
       "      <td>-1.837521</td>\n",
       "      <td>0.01034</td>\n",
       "      <td>4.770828</td>\n",
       "      <td>0.027659</td>\n",
       "      <td>-0.702504</td>\n",
       "      <td>-2.571056</td>\n",
       "      <td>1.0</td>\n",
       "      <td>0.5</td>\n",
       "      <td>1000</td>\n",
       "      <td>101</td>\n",
       "      <td>lattice_disp</td>\n",
       "      <td>54.932302</td>\n",
       "      <td>-10.444874</td>\n",
       "      <td>fit_SF_func_theta_[ -90.92  -94.89  -98.48 -10...</td>\n",
       "      <td>10.34</td>\n",
       "    </tr>\n",
       "    <tr>\n",
       "      <th>...</th>\n",
       "      <td>...</td>\n",
       "      <td>...</td>\n",
       "      <td>...</td>\n",
       "      <td>...</td>\n",
       "      <td>...</td>\n",
       "      <td>...</td>\n",
       "      <td>...</td>\n",
       "      <td>...</td>\n",
       "      <td>...</td>\n",
       "      <td>...</td>\n",
       "      <td>...</td>\n",
       "      <td>...</td>\n",
       "      <td>...</td>\n",
       "      <td>...</td>\n",
       "      <td>...</td>\n",
       "    </tr>\n",
       "    <tr>\n",
       "      <th>96</th>\n",
       "      <td>-1.326104</td>\n",
       "      <td>0.01034</td>\n",
       "      <td>4.784053</td>\n",
       "      <td>0.006590</td>\n",
       "      <td>0.648588</td>\n",
       "      <td>-2.597506</td>\n",
       "      <td>1.0</td>\n",
       "      <td>0.5</td>\n",
       "      <td>1000</td>\n",
       "      <td>101</td>\n",
       "      <td>lattice_disp</td>\n",
       "      <td>54.932302</td>\n",
       "      <td>-10.444874</td>\n",
       "      <td>fit_SF_func_theta_[ -90.92  -94.89  -98.48 -10...</td>\n",
       "      <td>10.34</td>\n",
       "    </tr>\n",
       "    <tr>\n",
       "      <th>97</th>\n",
       "      <td>-1.385705</td>\n",
       "      <td>0.01034</td>\n",
       "      <td>4.862751</td>\n",
       "      <td>0.010574</td>\n",
       "      <td>0.498914</td>\n",
       "      <td>-2.664650</td>\n",
       "      <td>1.0</td>\n",
       "      <td>0.5</td>\n",
       "      <td>1000</td>\n",
       "      <td>101</td>\n",
       "      <td>lattice_disp</td>\n",
       "      <td>54.932302</td>\n",
       "      <td>-10.444874</td>\n",
       "      <td>fit_SF_func_theta_[ -90.92  -94.89  -98.48 -10...</td>\n",
       "      <td>10.34</td>\n",
       "    </tr>\n",
       "    <tr>\n",
       "      <th>98</th>\n",
       "      <td>-1.446422</td>\n",
       "      <td>0.01034</td>\n",
       "      <td>4.944929</td>\n",
       "      <td>0.024701</td>\n",
       "      <td>0.340330</td>\n",
       "      <td>-2.722210</td>\n",
       "      <td>1.0</td>\n",
       "      <td>0.5</td>\n",
       "      <td>1000</td>\n",
       "      <td>101</td>\n",
       "      <td>lattice_disp</td>\n",
       "      <td>54.932302</td>\n",
       "      <td>-10.444874</td>\n",
       "      <td>fit_SF_func_theta_[ -90.92  -94.89  -98.48 -10...</td>\n",
       "      <td>10.34</td>\n",
       "    </tr>\n",
       "    <tr>\n",
       "      <th>99</th>\n",
       "      <td>-1.510908</td>\n",
       "      <td>0.01034</td>\n",
       "      <td>4.986818</td>\n",
       "      <td>0.010425</td>\n",
       "      <td>0.165711</td>\n",
       "      <td>-2.763696</td>\n",
       "      <td>1.0</td>\n",
       "      <td>0.5</td>\n",
       "      <td>1000</td>\n",
       "      <td>101</td>\n",
       "      <td>lattice_disp</td>\n",
       "      <td>54.932302</td>\n",
       "      <td>-10.444874</td>\n",
       "      <td>fit_SF_func_theta_[ -90.92  -94.89  -98.48 -10...</td>\n",
       "      <td>10.34</td>\n",
       "    </tr>\n",
       "    <tr>\n",
       "      <th>100</th>\n",
       "      <td>-1.584272</td>\n",
       "      <td>0.01034</td>\n",
       "      <td>5.006272</td>\n",
       "      <td>0.010691</td>\n",
       "      <td>-0.037419</td>\n",
       "      <td>-2.776505</td>\n",
       "      <td>1.0</td>\n",
       "      <td>0.5</td>\n",
       "      <td>1000</td>\n",
       "      <td>101</td>\n",
       "      <td>lattice_disp</td>\n",
       "      <td>54.932302</td>\n",
       "      <td>-10.444874</td>\n",
       "      <td>fit_SF_func_theta_[ -90.92  -94.89  -98.48 -10...</td>\n",
       "      <td>10.34</td>\n",
       "    </tr>\n",
       "  </tbody>\n",
       "</table>\n",
       "<p>101 rows × 15 columns</p>\n",
       "</div>"
      ],
      "text/plain": [
       "        theta     freq        SE     error       KFX       KFY    T   nu  \\\n",
       "0   -1.586840  0.01034  5.005746  0.010387 -0.044546 -2.776214  1.0  0.5   \n",
       "1   -1.656107  0.01034  4.970496  0.017336 -0.235202 -2.750303  1.0  0.5   \n",
       "2   -1.718768  0.01034  4.908661  0.027707 -0.402694 -2.701547  1.0  0.5   \n",
       "3   -1.778321  0.01034  4.836549  0.008196 -0.555932 -2.640307  1.0  0.5   \n",
       "4   -1.837521  0.01034  4.770828  0.027659 -0.702504 -2.571056  1.0  0.5   \n",
       "..        ...      ...       ...       ...       ...       ...  ...  ...   \n",
       "96  -1.326104  0.01034  4.784053  0.006590  0.648588 -2.597506  1.0  0.5   \n",
       "97  -1.385705  0.01034  4.862751  0.010574  0.498914 -2.664650  1.0  0.5   \n",
       "98  -1.446422  0.01034  4.944929  0.024701  0.340330 -2.722210  1.0  0.5   \n",
       "99  -1.510908  0.01034  4.986818  0.010425  0.165711 -2.763696  1.0  0.5   \n",
       "100 -1.584272  0.01034  5.006272  0.010691 -0.037419 -2.776505  1.0  0.5   \n",
       "\n",
       "     intP  FS_point      dispname         t1         t2  \\\n",
       "0    1000       101  lattice_disp  54.932302 -10.444874   \n",
       "1    1000       101  lattice_disp  54.932302 -10.444874   \n",
       "2    1000       101  lattice_disp  54.932302 -10.444874   \n",
       "3    1000       101  lattice_disp  54.932302 -10.444874   \n",
       "4    1000       101  lattice_disp  54.932302 -10.444874   \n",
       "..    ...       ...           ...        ...        ...   \n",
       "96   1000       101  lattice_disp  54.932302 -10.444874   \n",
       "97   1000       101  lattice_disp  54.932302 -10.444874   \n",
       "98   1000       101  lattice_disp  54.932302 -10.444874   \n",
       "99   1000       101  lattice_disp  54.932302 -10.444874   \n",
       "100  1000       101  lattice_disp  54.932302 -10.444874   \n",
       "\n",
       "                                                SFname      J  \n",
       "0    fit_SF_func_theta_[ -90.92  -94.89  -98.48 -10...  10.34  \n",
       "1    fit_SF_func_theta_[ -90.92  -94.89  -98.48 -10...  10.34  \n",
       "2    fit_SF_func_theta_[ -90.92  -94.89  -98.48 -10...  10.34  \n",
       "3    fit_SF_func_theta_[ -90.92  -94.89  -98.48 -10...  10.34  \n",
       "4    fit_SF_func_theta_[ -90.92  -94.89  -98.48 -10...  10.34  \n",
       "..                                                 ...    ...  \n",
       "96   fit_SF_func_theta_[ -90.92  -94.89  -98.48 -10...  10.34  \n",
       "97   fit_SF_func_theta_[ -90.92  -94.89  -98.48 -10...  10.34  \n",
       "98   fit_SF_func_theta_[ -90.92  -94.89  -98.48 -10...  10.34  \n",
       "99   fit_SF_func_theta_[ -90.92  -94.89  -98.48 -10...  10.34  \n",
       "100  fit_SF_func_theta_[ -90.92  -94.89  -98.48 -10...  10.34  \n",
       "\n",
       "[101 rows x 15 columns]"
      ]
     },
     "execution_count": 27,
     "metadata": {},
     "output_type": "execute_result"
    }
   ],
   "source": [
    "df"
   ]
  },
  {
   "cell_type": "code",
   "execution_count": 28,
   "metadata": {},
   "outputs": [
    {
     "ename": "FileNotFoundError",
     "evalue": "File /home/jfm343/Documents/Delafossites/integration_delafossite/Modular/BM_data2022-04-27-12-01-44.h5 does not exist",
     "output_type": "error",
     "traceback": [
      "\u001b[0;31m---------------------------------------------------------------------------\u001b[0m",
      "\u001b[0;31mFileNotFoundError\u001b[0m                         Traceback (most recent call last)",
      "\u001b[0;32m<ipython-input-28-93d36996ee91>\u001b[0m in \u001b[0;36m<module>\u001b[0;34m\u001b[0m\n\u001b[1;32m      1\u001b[0m \u001b[0mpath\u001b[0m\u001b[0;34m=\u001b[0m\u001b[0mpathy\u001b[0m\u001b[0;34m+\u001b[0m\u001b[0;34m'BM_data2022-04-27-12-01-44.h5'\u001b[0m\u001b[0;34m\u001b[0m\u001b[0;34m\u001b[0m\u001b[0m\n\u001b[0;32m----> 2\u001b[0;31m \u001b[0mdf\u001b[0m \u001b[0;34m=\u001b[0m \u001b[0mpd\u001b[0m\u001b[0;34m.\u001b[0m\u001b[0mread_hdf\u001b[0m\u001b[0;34m(\u001b[0m\u001b[0mpath\u001b[0m\u001b[0;34m)\u001b[0m\u001b[0;34m\u001b[0m\u001b[0;34m\u001b[0m\u001b[0m\n\u001b[0m\u001b[1;32m      3\u001b[0m \u001b[0mthets\u001b[0m\u001b[0;34m=\u001b[0m\u001b[0mdf\u001b[0m\u001b[0;34m[\u001b[0m\u001b[0;34m'theta'\u001b[0m\u001b[0;34m]\u001b[0m\u001b[0;34m.\u001b[0m\u001b[0munique\u001b[0m\u001b[0;34m(\u001b[0m\u001b[0;34m)\u001b[0m\u001b[0;34m\u001b[0m\u001b[0;34m\u001b[0m\u001b[0m\n\u001b[1;32m      4\u001b[0m \u001b[0mtss\u001b[0m\u001b[0;34m=\u001b[0m\u001b[0mdf\u001b[0m\u001b[0;34m[\u001b[0m\u001b[0;34m'T'\u001b[0m\u001b[0;34m]\u001b[0m\u001b[0;34m.\u001b[0m\u001b[0munique\u001b[0m\u001b[0;34m(\u001b[0m\u001b[0;34m)\u001b[0m\u001b[0;34m\u001b[0m\u001b[0;34m\u001b[0m\u001b[0m\n\u001b[1;32m      5\u001b[0m \u001b[0;34m\u001b[0m\u001b[0m\n",
      "\u001b[0;32m~/anaconda3/lib/python3.8/site-packages/pandas/io/pytables.py\u001b[0m in \u001b[0;36mread_hdf\u001b[0;34m(path_or_buf, key, mode, errors, where, start, stop, columns, iterator, chunksize, **kwargs)\u001b[0m\n\u001b[1;32m    395\u001b[0m \u001b[0;34m\u001b[0m\u001b[0m\n\u001b[1;32m    396\u001b[0m         \u001b[0;32mif\u001b[0m \u001b[0;32mnot\u001b[0m \u001b[0mexists\u001b[0m\u001b[0;34m:\u001b[0m\u001b[0;34m\u001b[0m\u001b[0;34m\u001b[0m\u001b[0m\n\u001b[0;32m--> 397\u001b[0;31m             \u001b[0;32mraise\u001b[0m \u001b[0mFileNotFoundError\u001b[0m\u001b[0;34m(\u001b[0m\u001b[0;34mf\"File {path_or_buf} does not exist\"\u001b[0m\u001b[0;34m)\u001b[0m\u001b[0;34m\u001b[0m\u001b[0;34m\u001b[0m\u001b[0m\n\u001b[0m\u001b[1;32m    398\u001b[0m \u001b[0;34m\u001b[0m\u001b[0m\n\u001b[1;32m    399\u001b[0m         \u001b[0mstore\u001b[0m \u001b[0;34m=\u001b[0m \u001b[0mHDFStore\u001b[0m\u001b[0;34m(\u001b[0m\u001b[0mpath_or_buf\u001b[0m\u001b[0;34m,\u001b[0m \u001b[0mmode\u001b[0m\u001b[0;34m=\u001b[0m\u001b[0mmode\u001b[0m\u001b[0;34m,\u001b[0m \u001b[0merrors\u001b[0m\u001b[0;34m=\u001b[0m\u001b[0merrors\u001b[0m\u001b[0;34m,\u001b[0m \u001b[0;34m**\u001b[0m\u001b[0mkwargs\u001b[0m\u001b[0;34m)\u001b[0m\u001b[0;34m\u001b[0m\u001b[0;34m\u001b[0m\u001b[0m\n",
      "\u001b[0;31mFileNotFoundError\u001b[0m: File /home/jfm343/Documents/Delafossites/integration_delafossite/Modular/BM_data2022-04-27-12-01-44.h5 does not exist"
     ]
    }
   ],
   "source": [
    "path=pathy+'BM_data2022-04-27-12-01-44.h5'\n",
    "df = pd.read_hdf(path)\n",
    "thets=df['theta'].unique()\n",
    "tss=df['T'].unique()\n",
    "\n",
    "for th in thets:\n",
    "    df2=df.loc[(df['theta'] ==th )&(df['T'] <= 10)]\n",
    "    plt.plot(df2['freq'], df2['SE'], label=str(th))\n",
    "    # plt.scatter(df2['freq'], df2['SE'], label=str(th))\n",
    "    # ax2 = df2.plot( x='freq',y='SE', c='T',colormap='viridis', sharex=True, kind='scatter')\n",
    "    # plt.title('theta='+str(th*180/np.pi))\n",
    "\n",
    "# path=pathy+'data2022-04-27-22-03-52.h5'\n",
    "  \n",
    "\n",
    "# df = pd.read_hdf(path)\n",
    "# thets=df['theta'].unique()\n",
    "# tss=df['T'].unique()\n",
    "\n",
    "# for th in thets:\n",
    "#     df2=df.loc[(df['theta'] ==th )&(df['T'] <= 10)]\n",
    "#     plt.scatter(df2['freq'], df2['SE'], label=str(th))\n",
    "#     # ax2 = df2.plot( x='freq',y='SE', c='T',colormap='viridis', sharex=True, kind='scatter')\n",
    "#     # plt.title('theta='+str(th*180/np.pi))\n",
    "# plt.legend()\n",
    "# print(tss)\n",
    "\n",
    "\n",
    "\n",
    "path=pathy+'data2022-04-27-22-10-22.h5'\n",
    "  \n",
    "\n",
    "df = pd.read_hdf(path)\n",
    "thets=df['theta'].unique()\n",
    "tss=df['T'].unique()\n",
    "\n",
    "for th in thets:\n",
    "    df2=df.loc[(df['theta'] ==th )&(df['T'] <= 10)]\n",
    "    plt.scatter(df2['freq'], df2['SE'], label=str(th), s=2)\n",
    "    # ax2 = df2.plot( x='freq',y='SE', c='T',colormap='viridis', sharex=True, kind='scatter')\n",
    "    # plt.title('theta='+str(th*180/np.pi))\n",
    "plt.legend()\n",
    "print(tss)"
   ]
  },
  {
   "cell_type": "code",
   "execution_count": 29,
   "metadata": {},
   "outputs": [
    {
     "ename": "FileNotFoundError",
     "evalue": "File /home/jfm343/Documents/Delafossites/integration_delafossite/Modular/smaller_W__17_500_data2022-04-27-14-20-51.h5 does not exist",
     "output_type": "error",
     "traceback": [
      "\u001b[0;31m---------------------------------------------------------------------------\u001b[0m",
      "\u001b[0;31mFileNotFoundError\u001b[0m                         Traceback (most recent call last)",
      "\u001b[0;32m<ipython-input-29-8da186995051>\u001b[0m in \u001b[0;36m<module>\u001b[0;34m\u001b[0m\n\u001b[1;32m      1\u001b[0m \u001b[0mpath\u001b[0m\u001b[0;34m=\u001b[0m\u001b[0mpathy\u001b[0m\u001b[0;34m+\u001b[0m\u001b[0;34m'smaller_W__17_500_data2022-04-27-14-20-51.h5'\u001b[0m\u001b[0;34m\u001b[0m\u001b[0;34m\u001b[0m\u001b[0m\n\u001b[0;32m----> 2\u001b[0;31m \u001b[0mdf\u001b[0m \u001b[0;34m=\u001b[0m \u001b[0mpd\u001b[0m\u001b[0;34m.\u001b[0m\u001b[0mread_hdf\u001b[0m\u001b[0;34m(\u001b[0m\u001b[0mpath\u001b[0m\u001b[0;34m)\u001b[0m\u001b[0;34m\u001b[0m\u001b[0;34m\u001b[0m\u001b[0m\n\u001b[0m\u001b[1;32m      3\u001b[0m \u001b[0mthets\u001b[0m\u001b[0;34m=\u001b[0m\u001b[0mdf\u001b[0m\u001b[0;34m[\u001b[0m\u001b[0;34m'theta'\u001b[0m\u001b[0;34m]\u001b[0m\u001b[0;34m.\u001b[0m\u001b[0munique\u001b[0m\u001b[0;34m(\u001b[0m\u001b[0;34m)\u001b[0m\u001b[0;34m\u001b[0m\u001b[0;34m\u001b[0m\u001b[0m\n\u001b[1;32m      4\u001b[0m \u001b[0mtss\u001b[0m\u001b[0;34m=\u001b[0m\u001b[0mdf\u001b[0m\u001b[0;34m[\u001b[0m\u001b[0;34m'T'\u001b[0m\u001b[0;34m]\u001b[0m\u001b[0;34m.\u001b[0m\u001b[0munique\u001b[0m\u001b[0;34m(\u001b[0m\u001b[0;34m)\u001b[0m\u001b[0;34m\u001b[0m\u001b[0;34m\u001b[0m\u001b[0m\n\u001b[1;32m      5\u001b[0m \u001b[0;34m\u001b[0m\u001b[0m\n",
      "\u001b[0;32m~/anaconda3/lib/python3.8/site-packages/pandas/io/pytables.py\u001b[0m in \u001b[0;36mread_hdf\u001b[0;34m(path_or_buf, key, mode, errors, where, start, stop, columns, iterator, chunksize, **kwargs)\u001b[0m\n\u001b[1;32m    395\u001b[0m \u001b[0;34m\u001b[0m\u001b[0m\n\u001b[1;32m    396\u001b[0m         \u001b[0;32mif\u001b[0m \u001b[0;32mnot\u001b[0m \u001b[0mexists\u001b[0m\u001b[0;34m:\u001b[0m\u001b[0;34m\u001b[0m\u001b[0;34m\u001b[0m\u001b[0m\n\u001b[0;32m--> 397\u001b[0;31m             \u001b[0;32mraise\u001b[0m \u001b[0mFileNotFoundError\u001b[0m\u001b[0;34m(\u001b[0m\u001b[0;34mf\"File {path_or_buf} does not exist\"\u001b[0m\u001b[0;34m)\u001b[0m\u001b[0;34m\u001b[0m\u001b[0;34m\u001b[0m\u001b[0m\n\u001b[0m\u001b[1;32m    398\u001b[0m \u001b[0;34m\u001b[0m\u001b[0m\n\u001b[1;32m    399\u001b[0m         \u001b[0mstore\u001b[0m \u001b[0;34m=\u001b[0m \u001b[0mHDFStore\u001b[0m\u001b[0;34m(\u001b[0m\u001b[0mpath_or_buf\u001b[0m\u001b[0;34m,\u001b[0m \u001b[0mmode\u001b[0m\u001b[0;34m=\u001b[0m\u001b[0mmode\u001b[0m\u001b[0;34m,\u001b[0m \u001b[0merrors\u001b[0m\u001b[0;34m=\u001b[0m\u001b[0merrors\u001b[0m\u001b[0;34m,\u001b[0m \u001b[0;34m**\u001b[0m\u001b[0mkwargs\u001b[0m\u001b[0;34m)\u001b[0m\u001b[0;34m\u001b[0m\u001b[0;34m\u001b[0m\u001b[0m\n",
      "\u001b[0;31mFileNotFoundError\u001b[0m: File /home/jfm343/Documents/Delafossites/integration_delafossite/Modular/smaller_W__17_500_data2022-04-27-14-20-51.h5 does not exist"
     ]
    }
   ],
   "source": [
    "path=pathy+'smaller_W__17_500_data2022-04-27-14-20-51.h5'\n",
    "df = pd.read_hdf(path)\n",
    "thets=df['theta'].unique()\n",
    "tss=df['T'].unique()\n",
    "\n",
    "for th in thets:\n",
    "    df2=df.loc[(df['theta'] ==th )&(df['T'] <= 10)]\n",
    "    plt.plot(df2['freq'], df2['SE'], label=str(th))\n",
    "    # plt.scatter(df2['freq'], df2['SE'], label=str(th))\n",
    "    # ax2 = df2.plot( x='freq',y='SE', c='T',colormap='viridis', sharex=True, kind='scatter')\n",
    "    # plt.title('theta='+str(th*180/np.pi))\n",
    "# path=pathy+'1500_1500_15_gettingthere_data2022-04-27-14-04-59.h5'\n",
    "path=pathy+'smaller_W__17_1500_data2022-04-27-14-28-10.h5'\n",
    "  \n",
    "\n",
    "df = pd.read_hdf(path)\n",
    "thets=df['theta'].unique()\n",
    "tss=df['T'].unique()\n",
    "\n",
    "for th in thets:\n",
    "    df2=df.loc[(df['theta'] ==th )&(df['T'] <= 10)]\n",
    "    plt.plot(df2['freq'], df2['SE'], label=str(th))\n",
    "    # ax2 = df2.plot( x='freq',y='SE', c='T',colormap='viridis', sharex=True, kind='scatter')\n",
    "    # plt.title('theta='+str(th*180/np.pi))\n",
    "plt.legend()\n",
    "print(tss)"
   ]
  },
  {
   "cell_type": "code",
   "execution_count": 30,
   "metadata": {},
   "outputs": [
    {
     "ename": "FileNotFoundError",
     "evalue": "File /home/jfm343/Documents/Delafossites/integration_delafossite/Modular/Smaller_W_radial_data2022-04-27-14-41-02.h5 does not exist",
     "output_type": "error",
     "traceback": [
      "\u001b[0;31m---------------------------------------------------------------------------\u001b[0m",
      "\u001b[0;31mFileNotFoundError\u001b[0m                         Traceback (most recent call last)",
      "\u001b[0;32m<ipython-input-30-fcf2943c0e2a>\u001b[0m in \u001b[0;36m<module>\u001b[0;34m\u001b[0m\n\u001b[1;32m      1\u001b[0m \u001b[0mpath\u001b[0m\u001b[0;34m=\u001b[0m\u001b[0mpathy\u001b[0m\u001b[0;34m+\u001b[0m\u001b[0;34m'Smaller_W_radial_data2022-04-27-14-41-02.h5'\u001b[0m\u001b[0;34m\u001b[0m\u001b[0;34m\u001b[0m\u001b[0m\n\u001b[0;32m----> 2\u001b[0;31m \u001b[0mdf\u001b[0m \u001b[0;34m=\u001b[0m \u001b[0mpd\u001b[0m\u001b[0;34m.\u001b[0m\u001b[0mread_hdf\u001b[0m\u001b[0;34m(\u001b[0m\u001b[0mpath\u001b[0m\u001b[0;34m)\u001b[0m\u001b[0;34m\u001b[0m\u001b[0;34m\u001b[0m\u001b[0m\n\u001b[0m\u001b[1;32m      3\u001b[0m \u001b[0mthets\u001b[0m\u001b[0;34m=\u001b[0m\u001b[0mdf\u001b[0m\u001b[0;34m[\u001b[0m\u001b[0;34m'theta'\u001b[0m\u001b[0;34m]\u001b[0m\u001b[0;34m.\u001b[0m\u001b[0munique\u001b[0m\u001b[0;34m(\u001b[0m\u001b[0;34m)\u001b[0m\u001b[0;34m\u001b[0m\u001b[0;34m\u001b[0m\u001b[0m\n\u001b[1;32m      4\u001b[0m \u001b[0mtss\u001b[0m\u001b[0;34m=\u001b[0m\u001b[0mdf\u001b[0m\u001b[0;34m[\u001b[0m\u001b[0;34m'T'\u001b[0m\u001b[0;34m]\u001b[0m\u001b[0;34m.\u001b[0m\u001b[0munique\u001b[0m\u001b[0;34m(\u001b[0m\u001b[0;34m)\u001b[0m\u001b[0;34m\u001b[0m\u001b[0;34m\u001b[0m\u001b[0m\n\u001b[1;32m      5\u001b[0m \u001b[0;34m\u001b[0m\u001b[0m\n",
      "\u001b[0;32m~/anaconda3/lib/python3.8/site-packages/pandas/io/pytables.py\u001b[0m in \u001b[0;36mread_hdf\u001b[0;34m(path_or_buf, key, mode, errors, where, start, stop, columns, iterator, chunksize, **kwargs)\u001b[0m\n\u001b[1;32m    395\u001b[0m \u001b[0;34m\u001b[0m\u001b[0m\n\u001b[1;32m    396\u001b[0m         \u001b[0;32mif\u001b[0m \u001b[0;32mnot\u001b[0m \u001b[0mexists\u001b[0m\u001b[0;34m:\u001b[0m\u001b[0;34m\u001b[0m\u001b[0;34m\u001b[0m\u001b[0m\n\u001b[0;32m--> 397\u001b[0;31m             \u001b[0;32mraise\u001b[0m \u001b[0mFileNotFoundError\u001b[0m\u001b[0;34m(\u001b[0m\u001b[0;34mf\"File {path_or_buf} does not exist\"\u001b[0m\u001b[0;34m)\u001b[0m\u001b[0;34m\u001b[0m\u001b[0;34m\u001b[0m\u001b[0m\n\u001b[0m\u001b[1;32m    398\u001b[0m \u001b[0;34m\u001b[0m\u001b[0m\n\u001b[1;32m    399\u001b[0m         \u001b[0mstore\u001b[0m \u001b[0;34m=\u001b[0m \u001b[0mHDFStore\u001b[0m\u001b[0;34m(\u001b[0m\u001b[0mpath_or_buf\u001b[0m\u001b[0;34m,\u001b[0m \u001b[0mmode\u001b[0m\u001b[0;34m=\u001b[0m\u001b[0mmode\u001b[0m\u001b[0;34m,\u001b[0m \u001b[0merrors\u001b[0m\u001b[0;34m=\u001b[0m\u001b[0merrors\u001b[0m\u001b[0;34m,\u001b[0m \u001b[0;34m**\u001b[0m\u001b[0mkwargs\u001b[0m\u001b[0;34m)\u001b[0m\u001b[0;34m\u001b[0m\u001b[0;34m\u001b[0m\u001b[0m\n",
      "\u001b[0;31mFileNotFoundError\u001b[0m: File /home/jfm343/Documents/Delafossites/integration_delafossite/Modular/Smaller_W_radial_data2022-04-27-14-41-02.h5 does not exist"
     ]
    }
   ],
   "source": [
    "path=pathy+'Smaller_W_radial_data2022-04-27-14-41-02.h5'\n",
    "df = pd.read_hdf(path)\n",
    "thets=df['theta'].unique()\n",
    "tss=df['T'].unique()\n",
    "\n",
    "for th in thets:\n",
    "    df2=df.loc[(df['theta'] ==th )&(df['T'] <= 10)]\n",
    "    plt.scatter(df2['freq'], df2['SE'], label=str(th), s=5)\n",
    "    # plt.scatter(df2['freq'], df2['SE'], label=str(th))\n",
    "    # ax2 = df2.plot( x='freq',y='SE', c='T',colormap='viridis', sharex=True, kind='scatter')\n",
    "    # plt.title('theta='+str(th*180/np.pi))\n",
    "# path=pathy+'1500_1500_15_gettingthere_data2022-04-27-14-04-59.h5'\n",
    "# path=pathy+'smaller_W__17_1500_data2022-04-27-14-28-10.h5'\n",
    "  \n",
    "\n",
    "# df = pd.read_hdf(path)\n",
    "# thets=df['theta'].unique()\n",
    "# tss=df['T'].unique()\n",
    "\n",
    "# for th in thets:\n",
    "#     df2=df.loc[(df['theta'] ==th )&(df['T'] <= 10)]\n",
    "#     plt.plot(df2['freq'], df2['SE'], label=str(th))\n",
    "#     # ax2 = df2.plot( x='freq',y='SE', c='T',colormap='viridis', sharex=True, kind='scatter')\n",
    "#     # plt.title('theta='+str(th*180/np.pi))\n",
    "# plt.legend()\n",
    "# print(tss)"
   ]
  },
  {
   "cell_type": "code",
   "execution_count": null,
   "metadata": {},
   "outputs": [],
   "source": []
  },
  {
   "cell_type": "markdown",
   "metadata": {},
   "source": []
  },
  {
   "cell_type": "code",
   "execution_count": 31,
   "metadata": {},
   "outputs": [
    {
     "ename": "FileNotFoundError",
     "evalue": "File /home/jfm343/Documents/Delafossites/integration_delafossite/Modular/data2022-04-28-13-05-20.h5 does not exist",
     "output_type": "error",
     "traceback": [
      "\u001b[0;31m---------------------------------------------------------------------------\u001b[0m",
      "\u001b[0;31mFileNotFoundError\u001b[0m                         Traceback (most recent call last)",
      "\u001b[0;32m<ipython-input-31-d0c7d96bbe13>\u001b[0m in \u001b[0;36m<module>\u001b[0;34m\u001b[0m\n\u001b[1;32m      1\u001b[0m \u001b[0mpath\u001b[0m\u001b[0;34m=\u001b[0m\u001b[0mpathy\u001b[0m\u001b[0;34m+\u001b[0m\u001b[0;34m'data2022-04-28-13-05-20.h5'\u001b[0m\u001b[0;34m\u001b[0m\u001b[0;34m\u001b[0m\u001b[0m\n\u001b[0;32m----> 2\u001b[0;31m \u001b[0mdf\u001b[0m \u001b[0;34m=\u001b[0m \u001b[0mpd\u001b[0m\u001b[0;34m.\u001b[0m\u001b[0mread_hdf\u001b[0m\u001b[0;34m(\u001b[0m\u001b[0mpath\u001b[0m\u001b[0;34m)\u001b[0m\u001b[0;34m\u001b[0m\u001b[0;34m\u001b[0m\u001b[0m\n\u001b[0m\u001b[1;32m      3\u001b[0m \u001b[0mthets\u001b[0m\u001b[0;34m=\u001b[0m\u001b[0mdf\u001b[0m\u001b[0;34m[\u001b[0m\u001b[0;34m'theta'\u001b[0m\u001b[0;34m]\u001b[0m\u001b[0;34m.\u001b[0m\u001b[0munique\u001b[0m\u001b[0;34m(\u001b[0m\u001b[0;34m)\u001b[0m\u001b[0;34m\u001b[0m\u001b[0;34m\u001b[0m\u001b[0m\n\u001b[1;32m      4\u001b[0m \u001b[0mtss\u001b[0m\u001b[0;34m=\u001b[0m\u001b[0mdf\u001b[0m\u001b[0;34m[\u001b[0m\u001b[0;34m'T'\u001b[0m\u001b[0;34m]\u001b[0m\u001b[0;34m.\u001b[0m\u001b[0munique\u001b[0m\u001b[0;34m(\u001b[0m\u001b[0;34m)\u001b[0m\u001b[0;34m\u001b[0m\u001b[0;34m\u001b[0m\u001b[0m\n\u001b[1;32m      5\u001b[0m \u001b[0;34m\u001b[0m\u001b[0m\n",
      "\u001b[0;32m~/anaconda3/lib/python3.8/site-packages/pandas/io/pytables.py\u001b[0m in \u001b[0;36mread_hdf\u001b[0;34m(path_or_buf, key, mode, errors, where, start, stop, columns, iterator, chunksize, **kwargs)\u001b[0m\n\u001b[1;32m    395\u001b[0m \u001b[0;34m\u001b[0m\u001b[0m\n\u001b[1;32m    396\u001b[0m         \u001b[0;32mif\u001b[0m \u001b[0;32mnot\u001b[0m \u001b[0mexists\u001b[0m\u001b[0;34m:\u001b[0m\u001b[0;34m\u001b[0m\u001b[0;34m\u001b[0m\u001b[0m\n\u001b[0;32m--> 397\u001b[0;31m             \u001b[0;32mraise\u001b[0m \u001b[0mFileNotFoundError\u001b[0m\u001b[0;34m(\u001b[0m\u001b[0;34mf\"File {path_or_buf} does not exist\"\u001b[0m\u001b[0;34m)\u001b[0m\u001b[0;34m\u001b[0m\u001b[0;34m\u001b[0m\u001b[0m\n\u001b[0m\u001b[1;32m    398\u001b[0m \u001b[0;34m\u001b[0m\u001b[0m\n\u001b[1;32m    399\u001b[0m         \u001b[0mstore\u001b[0m \u001b[0;34m=\u001b[0m \u001b[0mHDFStore\u001b[0m\u001b[0;34m(\u001b[0m\u001b[0mpath_or_buf\u001b[0m\u001b[0;34m,\u001b[0m \u001b[0mmode\u001b[0m\u001b[0;34m=\u001b[0m\u001b[0mmode\u001b[0m\u001b[0;34m,\u001b[0m \u001b[0merrors\u001b[0m\u001b[0;34m=\u001b[0m\u001b[0merrors\u001b[0m\u001b[0;34m,\u001b[0m \u001b[0;34m**\u001b[0m\u001b[0mkwargs\u001b[0m\u001b[0;34m)\u001b[0m\u001b[0;34m\u001b[0m\u001b[0;34m\u001b[0m\u001b[0m\n",
      "\u001b[0;31mFileNotFoundError\u001b[0m: File /home/jfm343/Documents/Delafossites/integration_delafossite/Modular/data2022-04-28-13-05-20.h5 does not exist"
     ]
    }
   ],
   "source": [
    "path=pathy+'data2022-04-28-13-05-20.h5'\n",
    "df = pd.read_hdf(path)\n",
    "thets=df['theta'].unique()\n",
    "tss=df['T'].unique()\n",
    "\n",
    "for th in thets:\n",
    "    df2=df.loc[(df['theta'] ==th )&(df['T'] <= 10)]\n",
    "    plt.scatter(df2['freq'], df2['SE']-df2['SE'][0], label=str(th), s=5)\n",
    "\n",
    "path=pathy+'data2022-04-28-13-15-19.h5'\n",
    "df = pd.read_hdf(path)\n",
    "thets=df['theta'].unique()\n",
    "tss=df['T'].unique()\n",
    "\n",
    "for th in thets:\n",
    "    df2=df.loc[(df['theta'] ==th )&(df['T'] <= 10)]\n",
    "    plt.scatter(df2['freq'], df2['SE']-df2['SE'][0], label=str(th), s=5)"
   ]
  },
  {
   "cell_type": "code",
   "execution_count": 4,
   "metadata": {},
   "outputs": [
    {
     "data": {
      "image/png": "[encoded data removed]",
      "text/plain": [
       "<Figure size 432x288 with 1 Axes>"
      ]
     },
     "metadata": {
      "needs_background": "light"
     },
     "output_type": "display_data"
    }
   ],
   "source": [
    "\n",
    "\n",
    "path=pathy+'data2022-04-28-14-05-13.h5'\n",
    "df = pd.read_hdf(path)\n",
    "thets=df['theta'].unique()\n",
    "tss=df['T'].unique()\n",
    "\n",
    "for th in thets:\n",
    "    df2=df.loc[(df['theta'] ==th )&(df['T'] <= 10)]\n",
    "    plt.scatter(df2['freq'], df2['SE']-df2['SE'][0], label=str(th), s=15)\n",
    "\n",
    "path=pathy+'data2022-04-28-14-08-58.h5'\n",
    "df = pd.read_hdf(path)\n",
    "thets=df['theta'].unique()\n",
    "tss=df['T'].unique()\n",
    "\n",
    "for th in thets:\n",
    "    df2=df.loc[(df['theta'] ==th )&(df['T'] <= 10)]\n",
    "    plt.scatter(df2['freq'], df2['SE']-df2['SE'][0], label=str(th), s=5)"
   ]
  },
  {
   "cell_type": "code",
   "execution_count": 5,
   "metadata": {},
   "outputs": [
    {
     "data": {
      "image/png": "[encoded data removed]",
      "text/plain": [
       "<Figure size 432x288 with 1 Axes>"
      ]
     },
     "metadata": {
      "needs_background": "light"
     },
     "output_type": "display_data"
    }
   ],
   "source": [
    "\n",
    "\n",
    "path=pathy+'data2022-04-28-14-05-13.h5'\n",
    "df = pd.read_hdf(path)\n",
    "thets=df['theta'].unique()\n",
    "tss=df['T'].unique()\n",
    "\n",
    "for th in thets:\n",
    "    df2=df.loc[(df['theta'] ==th )&(df['T'] <= 10)]\n",
    "    plt.scatter(df2['freq'], df2['SE'], label=str(th), s=15)\n",
    "\n",
    "path=pathy+'data2022-04-28-14-08-58.h5'\n",
    "df = pd.read_hdf(path)\n",
    "thets=df['theta'].unique()\n",
    "tss=df['T'].unique()\n",
    "\n",
    "for th in thets:\n",
    "    df2=df.loc[(df['theta'] ==th )&(df['T'] <= 10)]\n",
    "    plt.scatter(df2['freq'], df2['SE'], label=str(th), s=5)"
   ]
  },
  {
   "cell_type": "code",
   "execution_count": 6,
   "metadata": {},
   "outputs": [
    {
     "data": {
      "image/png": "[encoded data removed]",
      "text/plain": [
       "<Figure size 432x288 with 1 Axes>"
      ]
     },
     "metadata": {
      "needs_background": "light"
     },
     "output_type": "display_data"
    }
   ],
   "source": [
    "\n",
    "\n",
    "\n",
    "\n",
    "path=pathy+'data2022-04-28-14-57-49.h5'\n",
    "df = pd.read_hdf(path)\n",
    "thets=df['theta'].unique()\n",
    "tss=df['T'].unique()\n",
    "\n",
    "for th in thets:\n",
    "    df2=df.loc[(df['theta'] ==th )&(df['T'] <= 10)]\n",
    "    plt.scatter(df2['freq'], df2['SE'], label=str(th), s=15)\n",
    "\n",
    "path=pathy+'data2022-04-28-14-59-16.h5'\n",
    "df = pd.read_hdf(path)\n",
    "thets=df['theta'].unique()\n",
    "tss=df['T'].unique()\n",
    "\n",
    "for th in thets:\n",
    "    df2=df.loc[(df['theta'] ==th )&(df['T'] <= 10)]\n",
    "    plt.scatter(df2['freq'], df2['SE'], label=str(th), s=15)"
   ]
  },
  {
   "cell_type": "code",
   "execution_count": 7,
   "metadata": {},
   "outputs": [
    {
     "data": {
      "image/png": "[encoded data removed]",
      "text/plain": [
       "<Figure size 432x288 with 1 Axes>"
      ]
     },
     "metadata": {
      "needs_background": "light"
     },
     "output_type": "display_data"
    }
   ],
   "source": [
    "\n",
    "\n",
    "\n",
    "\n",
    "path=pathy+'data2022-04-28-14-57-49.h5'\n",
    "df = pd.read_hdf(path)\n",
    "thets=df['theta'].unique()\n",
    "tss=df['T'].unique()\n",
    "\n",
    "for th in thets:\n",
    "    df2=df.loc[(df['theta'] ==th )&(df['T'] <= 10)]\n",
    "    plt.scatter(df2['freq'], df2['SE']-df2['SE'][0], label=str(th), s=15)\n",
    "\n",
    "path=pathy+'data2022-04-28-14-59-16.h5'\n",
    "df = pd.read_hdf(path)\n",
    "thets=df['theta'].unique()\n",
    "tss=df['T'].unique()\n",
    "\n",
    "for th in thets:\n",
    "    df2=df.loc[(df['theta'] ==th )&(df['T'] <= 10)]\n",
    "    plt.scatter(df2['freq'], df2['SE']-df2['SE'][0], label=str(th), s=15)"
   ]
  },
  {
   "cell_type": "code",
   "execution_count": 23,
   "metadata": {},
   "outputs": [
    {
     "name": "stdout",
     "output_type": "stream",
     "text": [
      "Machine arg is, CH1\n"
     ]
    },
    {
     "data": {
      "image/png": "[encoded data removed]",
      "text/plain": [
       "<Figure size 432x288 with 1 Axes>"
      ]
     },
     "metadata": {
      "needs_background": "light"
     },
     "output_type": "display_data"
    },
    {
     "data": {
      "image/png": "[encoded data removed]",
      "text/plain": [
       "<Figure size 432x288 with 1 Axes>"
      ]
     },
     "metadata": {
      "needs_background": "light"
     },
     "output_type": "display_data"
    }
   ],
   "source": [
    "path=pathy+'data2022-04-28-21-06-42.h5'\n",
    "df = pd.read_hdf(path)\n",
    "tss=df['T'].unique()\n",
    "\n",
    "l=Lattice.TriangLattice(10,10,'CH1')\n",
    "[vx,vy]=l.boundary()\n",
    "\n",
    "plt.scatter(df['theta'], df['SE'],  s=15)\n",
    "plt.show()\n",
    "plt.plot(vx,vy)\n",
    "plt.scatter(df['KFX'], df['KFY'],c=df['SE'],  s=15)\n",
    "plt.gca().set_aspect('equal', adjustable='box')\n",
    "plt.show()\n"
   ]
  },
  {
   "cell_type": "code",
   "execution_count": 24,
   "metadata": {},
   "outputs": [
    {
     "data": {
      "image/png": "[encoded data removed]",
      "text/plain": [
       "<Figure size 432x288 with 1 Axes>"
      ]
     },
     "metadata": {
      "needs_background": "light"
     },
     "output_type": "display_data"
    }
   ],
   "source": [
    "plt.scatter(df['theta'][2:],np.diff(df['theta'])[np.diff(df['theta'])<5],s=15)\n",
    "# plt.gca().set_aspect('equal', adjustable='box')\n",
    "plt.show()"
   ]
  },
  {
   "cell_type": "code",
   "execution_count": null,
   "metadata": {},
   "outputs": [],
   "source": []
  }
 ],
 "metadata": {
  "interpreter": {
   "hash": "aee8b7b246df8f9039afb4144a1f6fd8d2ca17a180786b69acc140d282b71a49"
  },
  "kernelspec": {
   "display_name": "Python 3.9.7 64-bit",
   "name": "python3"
  },
  "language_info": {
   "codemirror_mode": {
    "name": "ipython",
    "version": 3
   },
   "file_extension": ".py",
   "mimetype": "text/x-python",
   "name": "python",
   "nbconvert_exporter": "python",
   "pygments_lexer": "ipython3",
   "version": "3.8.8"
  },
  "orig_nbformat": 4
 },
 "nbformat": 4,
 "nbformat_minor": 2
}
