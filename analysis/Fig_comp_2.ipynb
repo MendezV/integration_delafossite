{
 "cells": [
  {
   "cell_type": "code",
   "execution_count": 1,
   "metadata": {},
   "outputs": [
    {
     "name": "stdout",
     "output_type": "stream",
     "text": [
      "Populating the interactive namespace from numpy and matplotlib\n"
     ]
    }
   ],
   "source": [
    "%pylab inline\n",
    "import numpy as np\n",
    "import pandas as pd\n",
    "import os\n",
    "import sys\n",
    "sys.path.insert(0, '/home/jfm343/Documents/Delafossites/integration_delafossite/Modular')\n",
    "# sys.path.insert(0, '/Users/juanmendezvalderrama/Documents/Proyectos/Delafossites/integration_delafossite/Modular')\n",
    "import Dispersion\n",
    "import Lattice\n",
    "import StructureFactor\n",
    "from scipy import linalg as la\n",
    "import seaborn as sns"
   ]
  },
  {
   "cell_type": "code",
   "execution_count": 2,
   "metadata": {},
   "outputs": [],
   "source": [
    "pathMAC=\"/Users/juanmendezvalderrama/Documents/Proyectos/Delafossites/integration_delafossite\"\n",
    "pathchow='/home/jfm343/Documents/Delafossites/integration_delafossite/'\n",
    "# pathpc='/home/juan/Documents/Projects/BM_bandstructure'\n",
    "# pathy=pathMAC\n",
    "pathy=pathchow"
   ]
  },
  {
   "cell_type": "code",
   "execution_count": 11,
   "metadata": {},
   "outputs": [
    {
     "name": "stdout",
     "output_type": "stream",
     "text": [
      "Machine arg is, CH1\n",
      "Machine arg is, CH1\n",
      "started calculating filling for chemical potential and dispersion parameters TB_single_band..\n",
      "Machine arg is, CH1\n",
      "reading lattice from... ./Lattices/KgridX1200.npy\n",
      "reading lattice from... ./Lattices/KgridY1200.npy\n",
      "Machine arg is, CH1\n",
      "reading lattice from... ./Lattices/KgridX1200.npy\n",
      "reading lattice from... ./Lattices/KgridY1200.npy\n",
      "norm of Dos, 42.97093206665365 45.58575006211245\n",
      "sum of the hist, normed? 42.97093206665365\n",
      "finished calculating filling for chemical potential\n",
      "Filling: 0.49313107609556217 .... chemical potential: 23.93702777725383\n",
      "Machine arg is, CH1\n",
      "reading lattice from... ./Lattices/KgridX1200.npy\n",
      "reading lattice from... ./Lattices/KgridY1200.npy\n",
      "sum of the hist, normed? 0.9999999999999923\n",
      "starting contour.....\n",
      "finished contour..... 4.3473474979400635\n"
     ]
    }
   ],
   "source": [
    "# # #electronic parameters\n",
    "J=2*5.17 #in mev\n",
    "tp1=568/J #in units of Js\\\n",
    "tp2=-tp1*108/568 #/tpp1\n",
    "##coupling \n",
    "U=4000/J\n",
    "g=100/J\n",
    "Kcou=g*g/U\n",
    "# fill=0.67 #van hove\n",
    "fill=0.5\n",
    "\n",
    "\n",
    "##########################\n",
    "##########################\n",
    "# Geometry/Lattice\n",
    "##########################\n",
    "##########################\n",
    "Npoints=1000\n",
    "Npoints_int_pre, NpointsFS_pre=2000,800\n",
    "save=True\n",
    "l=Lattice.TriangLattice(Npoints_int_pre, save,'CH1')\n",
    "Vol_rec=l.Vol_BZ()\n",
    "l2=Lattice.SQLattice(Npoints, save, 'CH1')\n",
    "Vol_rec2=l2.Vol_BZ()\n",
    "\n",
    "\n",
    "\n",
    "# ##########################\n",
    "# ##########################\n",
    "# # Fermi surface and structure factor\n",
    "# ##########################\n",
    "# ##########################\n",
    "ed=Dispersion.Dispersion_TB_single_band([tp1,tp2],fill,'CH1')\n",
    "\n",
    "# ed=Dispersion.Dispersion_circ([tp1,tp2],fill)\n",
    "[KxFS,KyFS]=ed.FS_contour(NpointsFS_pre)"
   ]
  },
  {
   "cell_type": "code",
   "execution_count": 12,
   "metadata": {},
   "outputs": [],
   "source": [
    "def Fermi_Vel(kx,ky):\n",
    "    sq3y2=np.sqrt(3)*ky/2\n",
    "    sq3y=np.sqrt(3)*ky\n",
    "    vx=-tp1*(-2*np.cos(sq3y2)*np.sin(kx/2)-2*np.sin(kx)) +6*tp2*np.cos(sq3y2)*np.sin(3*kx/2)\n",
    "    vy=2*np.sqrt(3)*tp1*np.cos(kx/2)*np.sin(sq3y2)-2*np.sqrt(3)*tp2*(-np.cos(3*kx/2)*np.sin(sq3y2)-np.sin(sq3y))\n",
    "    return [vx,vy]\n",
    "\n"
   ]
  },
  {
   "cell_type": "code",
   "execution_count": 13,
   "metadata": {},
   "outputs": [
    {
     "name": "stdout",
     "output_type": "stream",
     "text": [
      "reading data  /home/jfm343/Documents/Delafossites/integration_delafossite/data/tempsweep_radial_ME_scan__2022-05-05-07-24-15/tempsweep_radial_ME_scan__10/data_ME_2022-05-05-07-24-14.h5\n",
      "reading data  /home/jfm343/Documents/Delafossites/integration_delafossite/data/tempsweep_radial_ME_scan__2022-05-05-07-24-15/tempsweep_radial_ME_scan__3/data_ME_2022-05-04-19-32-39.h5\n",
      "reading data  /home/jfm343/Documents/Delafossites/integration_delafossite/data/tempsweep_radial_ME_scan__2022-05-05-07-24-15/tempsweep_radial_ME_scan__2/data_ME_2022-05-04-15-34-20.h5\n",
      "reading data  /home/jfm343/Documents/Delafossites/integration_delafossite/data/tempsweep_radial_ME_scan__2022-05-05-07-24-15/tempsweep_radial_ME_scan__5/data_ME_2022-05-05-03-31-35.h5\n",
      "reading data  /home/jfm343/Documents/Delafossites/integration_delafossite/data/tempsweep_radial_ME_scan__2022-05-05-07-24-15/tempsweep_radial_ME_scan__4/data_ME_2022-05-04-23-32-04.h5\n",
      "reading data  /home/jfm343/Documents/Delafossites/integration_delafossite/data/tempsweep_radial_ME_scan__2022-05-05-07-24-15/tempsweep_radial_ME_scan__1/data_ME_2022-05-04-11-29-22.h5\n"
     ]
    }
   ],
   "source": [
    "path=pathy+'data/tempsweep_radial_ME_scan__2022-05-05-07-24-15'\n",
    "# path=pathy+'/data/tempsweep_radial_mac__2022-05-01-22-48-29'\n",
    "# path=pathy+'/data/tempsweep_diffpeak_2022-02-12-13-44-44'\n",
    "subpaths=os.listdir(path)\n",
    "subpaths=list(filter(lambda a: a != 'inforun', subpaths))\n",
    "def getdatadir(fulpath):\n",
    "    data=[]\n",
    "    for pa in fulpath:\n",
    "        if ('data' in pa): data.append(pa)\n",
    "    return data\n",
    "frames=[]\n",
    "for i, pat in enumerate(subpaths):\n",
    "    # print(pat)\n",
    "    fulpath=path+'/'+pat\n",
    "    subpaths2=os.listdir(fulpath)\n",
    "    data= getdatadir(subpaths2)\n",
    "    fullpath=fulpath+'/'+data[0]\n",
    "    print(\"reading data \",fullpath)\n",
    "    \n",
    "    dff = pd.read_hdf(fullpath)\n",
    "    frames.append(dff)\n",
    "    \n",
    "df=pd.concat(frames).sort_values(['theta', 'nu'])"
   ]
  },
  {
   "cell_type": "markdown",
   "metadata": {},
   "source": [
    "# Single Figs"
   ]
  },
  {
   "cell_type": "code",
   "execution_count": 27,
   "metadata": {},
   "outputs": [
    {
     "name": "stdout",
     "output_type": "stream",
     "text": [
      "Machine arg is, CH1\n"
     ]
    },
    {
     "data": {
      "image/png": "[encoded data removed]",
      "text/plain": [
       "<Figure size 432x288 with 1 Axes>"
      ]
     },
     "metadata": {},
     "output_type": "display_data"
    }
   ],
   "source": [
    "\n",
    "df2=df.sort_values(by=['theta','freq', 'Q' ])\n",
    "tss=float(df2['T'].unique()[0])\n",
    "df2.loc[(df2['theta'] == -4*np.pi/6)]\n",
    "df2['Q']=-df2['Q']*np.sign(df2['QFX'])\n",
    "T=1.0\n",
    "df_one_temp=df2.loc[(df2['theta'] == -4*np.pi/6)&(df2['T'] == T)]\n",
    "\n",
    "l=Lattice.TriangLattice(10,10,'CH1')\n",
    "[vx,vy]=l.boundary()\n",
    "\n",
    "\n",
    "\n",
    "thets=df_one_temp['theta'].unique()\n",
    "# thets=[df['theta'].unique()[0]]\n",
    "df=df_one_temp.sort_values(by=[ 'freq','T','theta'])\n",
    "for l,th in enumerate(thets):\n",
    "    df2=df.loc[(df['theta'] ==th )]\n",
    "    Qu=df2['Q'].unique()\n",
    "    w=df2['freq'].unique()\n",
    "\n",
    "    plt.plot(df2['KFX']+df2['QFX'],df2['KFY']+df2['QFY'], c='r',zorder=10, lw=5 )\n",
    "    \n",
    "im=plot(KxFS,KyFS,c='seagreen', lw=4)\n",
    "plt.plot(vx,vy, c='k')\n",
    "plt.gca().set_aspect('equal', adjustable='box')\n",
    "plt.yticks([])\n",
    "plt.xticks([])\n",
    "plt.savefig(\"imgs/pap_fig_comp2.png\", dpi=400)\n",
    "show()\n",
    "\n",
    "\n"
   ]
  },
  {
   "cell_type": "code",
   "execution_count": null,
   "metadata": {},
   "outputs": [],
   "source": []
  }
 ],
 "metadata": {
  "interpreter": {
   "hash": "7639067863af19a93af29fcfb635aaf9acd3c79408c60a0e16bc1eebbcf0e31d"
  },
  "kernelspec": {
   "display_name": "Python 3.8.8 ('base')",
   "language": "python",
   "name": "python3"
  },
  "language_info": {
   "codemirror_mode": {
    "name": "ipython",
    "version": 3
   },
   "file_extension": ".py",
   "mimetype": "text/x-python",
   "name": "python",
   "nbconvert_exporter": "python",
   "pygments_lexer": "ipython3",
   "version": "3.8.8"
  },
  "orig_nbformat": 4
 },
 "nbformat": 4,
 "nbformat_minor": 2
}
