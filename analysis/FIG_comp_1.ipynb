{
 "cells": [
  {
   "cell_type": "code",
   "execution_count": 2,
   "metadata": {},
   "outputs": [
    {
     "name": "stdout",
     "output_type": "stream",
     "text": [
      "Populating the interactive namespace from numpy and matplotlib\n"
     ]
    }
   ],
   "source": [
    "%pylab inline\n",
    "import numpy as np\n",
    "import pandas as pd\n",
    "import os\n",
    "import sys\n",
    "sys.path.insert(0, '/home/jfm343/Documents/Delafossites/integration_delafossite/Modular')\n",
    "# sys.path.insert(0, '/Users/juanmendezvalderrama/Documents/Proyectos/Delafossites/integration_delafossite/Modular')\n",
    "import Dispersion\n",
    "import Lattice\n",
    "from scipy import linalg as la\n",
    "import seaborn as sns"
   ]
  },
  {
   "cell_type": "code",
   "execution_count": 3,
   "metadata": {},
   "outputs": [],
   "source": [
    "pathMAC=\"/Users/juanmendezvalderrama/Documents/Proyectos/Delafossites/integration_delafossite/data/FS_plots/\"\n",
    "pathchow='/home/jfm343/Documents/Delafossites/integration_delafossite/data/FS_plots/'\n",
    "# pathpc='/home/juan/Documents/Projects/BM_bandstructure'\n",
    "# pathy=pathMAC\n",
    "pathy=pathchow"
   ]
  },
  {
   "cell_type": "code",
   "execution_count": 4,
   "metadata": {},
   "outputs": [
    {
     "name": "stdout",
     "output_type": "stream",
     "text": [
      "Machine arg is, CH1\n",
      "Machine arg is, CH1\n",
      "started calculating filling for chemical potential and dispersion parameters TB_single_band..\n",
      "Machine arg is, CH1\n",
      "reading lattice from... ./Lattices/KgridX1200.npy\n",
      "reading lattice from... ./Lattices/KgridY1200.npy\n",
      "Machine arg is, CH1\n",
      "reading lattice from... ./Lattices/KgridX1200.npy\n",
      "reading lattice from... ./Lattices/KgridY1200.npy\n",
      "norm of Dos, 42.97093206665365 45.58575006211245\n",
      "sum of the hist, normed? 42.97093206665365\n",
      "finished calculating filling for chemical potential\n",
      "Filling: 0.49313107609556217 .... chemical potential: 23.93702777725383\n",
      "Machine arg is, CH1\n",
      "reading lattice from... ./Lattices/KgridX1200.npy\n",
      "reading lattice from... ./Lattices/KgridY1200.npy\n",
      "sum of the hist, normed? 0.9999999999999923\n",
      "starting contour.....\n",
      "finished contour..... 4.353001117706299\n"
     ]
    }
   ],
   "source": [
    "# # #electronic parameters\n",
    "J=2*5.17 #in mev\n",
    "tp1=568/J #in units of Js\\\n",
    "tp2=-tp1*108/568 #/tpp1\n",
    "##coupling \n",
    "U=4000/J\n",
    "g=100/J\n",
    "Kcou=g*g/U\n",
    "# fill=0.67 #van hove\n",
    "fill=0.5\n",
    "\n",
    "\n",
    "##########################\n",
    "##########################\n",
    "# Geometry/Lattice\n",
    "##########################\n",
    "##########################\n",
    "Npoints=1000\n",
    "Npoints_int_pre, NpointsFS_pre=2000,800\n",
    "save=True\n",
    "l=Lattice.TriangLattice(Npoints_int_pre, save,'CH1')\n",
    "Vol_rec=l.Vol_BZ()\n",
    "l2=Lattice.SQLattice(Npoints, save, 'CH1')\n",
    "Vol_rec2=l2.Vol_BZ()\n",
    "\n",
    "\n",
    "\n",
    "# ##########################\n",
    "# ##########################\n",
    "# # Fermi surface and structure factor\n",
    "# ##########################\n",
    "# ##########################\n",
    "ed=Dispersion.Dispersion_TB_single_band([tp1,tp2],fill,'CH1')\n",
    "\n",
    "# ed=Dispersion.Dispersion_circ([tp1,tp2],fill)\n",
    "[KxFS,KyFS]=ed.FS_contour(NpointsFS_pre)"
   ]
  },
  {
   "cell_type": "code",
   "execution_count": 34,
   "metadata": {},
   "outputs": [
    {
     "name": "stdout",
     "output_type": "stream",
     "text": [
      "Machine arg is, CH1\n"
     ]
    },
    {
     "data": {
      "image/png": "[encoded data removed]",
      "text/plain": [
       "<Figure size 432x288 with 1 Axes>"
      ]
     },
     "metadata": {
      "needs_background": "light"
     },
     "output_type": "display_data"
    }
   ],
   "source": [
    "#REQUIRES TO PLAY A LOT WITH PARAMETERS, HOPEFULLY NOT A PROBLEM IF THE FS WAS SAMPLED VERY FINELY\n",
    "################\n",
    "################\n",
    "\n",
    "\n",
    "import seaborn as sns\n",
    "\n",
    "l=Lattice.TriangLattice(10,10,'CH1')\n",
    "[vx,vy]=l.boundary()\n",
    "\n",
    "plt.plot(vx,vy, c='k')\n",
    "im=plot(KxFS,KyFS,c='seagreen', lw=4)\n",
    "\n",
    "plt.gca().set_aspect('equal', adjustable='box')\n",
    "plt.axis('off')\n",
    "\n",
    "x=np.linspace(0,1,100)\n",
    "\n",
    "point1=int(NpointsFS_pre/12 +2*NpointsFS_pre/3 +8)\n",
    "# plt.scatter([KxFS[point1]],[KyFS[point1]])\n",
    "plt.plot(KxFS[point1]*x,KyFS[point1]*x, lw=4, c='k')\n",
    "\n",
    "point2=int(NpointsFS_pre/2 +30)\n",
    "\n",
    "# plt.scatter([KxFS[point2]],[KyFS[point2]])\n",
    "plt.plot(KxFS[point2]*x,KyFS[point2]*x, lw=4, c='k', ls='--')\n",
    "\n",
    "\n",
    "plt.text(0.75,0.75,r'$\\theta$', size=50)\n",
    "plt.tight_layout()\n",
    "plt.savefig(\"imgs/pap_fig_comp1.png\", dpi=400)\n"
   ]
  },
  {
   "cell_type": "code",
   "execution_count": null,
   "metadata": {},
   "outputs": [],
   "source": []
  },
  {
   "cell_type": "code",
   "execution_count": null,
   "metadata": {},
   "outputs": [],
   "source": []
  },
  {
   "cell_type": "code",
   "execution_count": null,
   "metadata": {},
   "outputs": [],
   "source": []
  },
  {
   "cell_type": "code",
   "execution_count": null,
   "metadata": {},
   "outputs": [],
   "source": []
  },
  {
   "cell_type": "code",
   "execution_count": null,
   "metadata": {},
   "outputs": [],
   "source": []
  }
 ],
 "metadata": {
  "interpreter": {
   "hash": "7639067863af19a93af29fcfb635aaf9acd3c79408c60a0e16bc1eebbcf0e31d"
  },
  "kernelspec": {
   "display_name": "Python 3.8.8 ('base')",
   "language": "python",
   "name": "python3"
  },
  "language_info": {
   "codemirror_mode": {
    "name": "ipython",
    "version": 3
   },
   "file_extension": ".py",
   "mimetype": "text/x-python",
   "name": "python",
   "nbconvert_exporter": "python",
   "pygments_lexer": "ipython3",
   "version": "3.8.8"
  },
  "orig_nbformat": 4
 },
 "nbformat": 4,
 "nbformat_minor": 2
}
