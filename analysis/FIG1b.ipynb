{
 "cells": [
  {
   "cell_type": "code",
   "execution_count": 1,
   "metadata": {},
   "outputs": [
    {
     "name": "stdout",
     "output_type": "stream",
     "text": [
      "Populating the interactive namespace from numpy and matplotlib\n"
     ]
    }
   ],
   "source": [
    "%pylab inline\n",
    "import numpy as np\n",
    "import pandas as pd\n",
    "import os\n",
    "import sys\n",
    "sys.path.insert(0, '/home/jfm343/Documents/Delafossites/integration_delafossite/Modular')\n",
    "# sys.path.insert(0, '/Users/juanmendezvalderrama/Documents/Proyectos/Delafossites/integration_delafossite/Modular')\n",
    "import Dispersion\n",
    "import Lattice\n",
    "from scipy import linalg as la\n",
    "import seaborn as sns\n",
    "from scipy.optimize import curve_fit\n",
    "from scipy import stats"
   ]
  },
  {
   "cell_type": "code",
   "execution_count": 2,
   "metadata": {},
   "outputs": [],
   "source": [
    "pathMAC=\"/Users/juanmendezvalderrama/Documents/Proyectos/Delafossites/integration_delafossite\"\n",
    "pathchow='/home/jfm343/Documents/Delafossites/integration_delafossite'\n",
    "# pathpc='/home/juan/Documents/Projects/BM_bandstructure'\n",
    "# pathy=pathMAC\n",
    "pathy=pathchow"
   ]
  },
  {
   "cell_type": "code",
   "execution_count": null,
   "metadata": {},
   "outputs": [],
   "source": []
  },
  {
   "cell_type": "code",
   "execution_count": 3,
   "metadata": {},
   "outputs": [
    {
     "name": "stdout",
     "output_type": "stream",
     "text": [
      "reading data  /home/jfm343/Documents/Delafossites/integration_delafossite/data/tempsweep_radial__2022-04-30-16-05-32/tempsweep_radial__6/data2022-04-30-09-50-45.h5\n",
      "reading data  /home/jfm343/Documents/Delafossites/integration_delafossite/data/tempsweep_radial__2022-04-30-16-05-32/tempsweep_radial__5/data2022-04-30-08-02-38.h5\n",
      "reading data  /home/jfm343/Documents/Delafossites/integration_delafossite/data/tempsweep_radial__2022-04-30-16-05-32/tempsweep_radial__9/data2022-04-30-14-47-39.h5\n",
      "reading data  /home/jfm343/Documents/Delafossites/integration_delafossite/data/tempsweep_radial__2022-04-30-16-05-32/tempsweep_radial__8/data2022-04-30-13-19-19.h5\n",
      "reading data  /home/jfm343/Documents/Delafossites/integration_delafossite/data/tempsweep_radial__2022-04-30-16-05-32/tempsweep_radial__2/data2022-04-30-02-50-07.h5\n",
      "reading data  /home/jfm343/Documents/Delafossites/integration_delafossite/data/tempsweep_radial__2022-04-30-16-05-32/tempsweep_radial__10/data2022-04-30-16-05-31.h5\n",
      "reading data  /home/jfm343/Documents/Delafossites/integration_delafossite/data/tempsweep_radial__2022-04-30-16-05-32/tempsweep_radial_patch100__50/data2022-05-05-21-41-18.h5\n",
      "reading data  /home/jfm343/Documents/Delafossites/integration_delafossite/data/tempsweep_radial__2022-04-30-16-05-32/tempsweep_radial__3/data2022-04-30-04-32-08.h5\n",
      "reading data  /home/jfm343/Documents/Delafossites/integration_delafossite/data/tempsweep_radial__2022-04-30-16-05-32/tempsweep_radial__7/data2022-04-30-11-38-55.h5\n",
      "reading data  /home/jfm343/Documents/Delafossites/integration_delafossite/data/tempsweep_radial__2022-04-30-16-05-32/tempsweep_radial_patch100__100/data2022-05-05-20-29-50.h5\n",
      "reading data  /home/jfm343/Documents/Delafossites/integration_delafossite/data/tempsweep_radial__2022-04-30-16-05-32/tempsweep_radial__4/data2022-04-30-06-13-37.h5\n",
      "reading data  /home/jfm343/Documents/Delafossites/integration_delafossite/data/tempsweep_radial__2022-04-30-16-05-32/tempsweep_radial__1/data2022-04-30-01-03-50.h5\n"
     ]
    }
   ],
   "source": [
    "path=pathy+'/data/tempsweep_radial__2022-04-30-16-05-32'\n",
    "# path=pathy+'/data/tempsweep_radial_mac__2022-05-01-22-48-29'\n",
    "# path=pathy+'/data/tempsweep_diffpeak_2022-02-12-13-44-44'\n",
    "subpaths=os.listdir(path)\n",
    "subpaths=list(filter(lambda a: a != 'inforun', subpaths))\n",
    "def getdatadir(fulpath):\n",
    "    data=[]\n",
    "    for pa in fulpath:\n",
    "        if ('data' in pa): data.append(pa)\n",
    "    return data\n",
    "frames=[]\n",
    "for i, pat in enumerate(subpaths):\n",
    "    # print(pat)\n",
    "    fulpath=path+'/'+pat\n",
    "    subpaths2=os.listdir(fulpath)\n",
    "    data= getdatadir(subpaths2)\n",
    "    fullpath=fulpath+'/'+data[0]\n",
    "    print(\"reading data \",fullpath)\n",
    "    \n",
    "    dff = pd.read_hdf(fullpath)\n",
    "    frames.append(dff)\n",
    "    \n",
    "df=pd.concat(frames).sort_values(['theta', 'nu'])\n"
   ]
  },
  {
   "cell_type": "code",
   "execution_count": 7,
   "metadata": {},
   "outputs": [
    {
     "name": "stdout",
     "output_type": "stream",
     "text": [
      "[-2.61799388 -2.51327412 -2.40855437 -2.30383461 -2.19911486 -2.0943951 ]\n"
     ]
    },
    {
     "data": {
      "image/png": "[encoded data removed]",
      "text/plain": [
       "<Figure size 432x288 with 1 Axes>"
      ]
     },
     "metadata": {
      "needs_background": "light"
     },
     "output_type": "display_data"
    }
   ],
   "source": [
    "\n",
    "thets=df['theta'].unique()\n",
    "print(thets)\n",
    "df=df.sort_values(by=[ 'freq','T','theta'])\n",
    "listcol=['tab:cyan','limegreen','tab:orange','tab:red']\n",
    "listcol=listcol[::-1]\n",
    "thets=np.array([thets[0],thets[2],thets[3],thets[5]])\n",
    "thlabel=[30,18,12,0]\n",
    "for l,th in enumerate(thets):\n",
    "    df2=df.loc[(df['freq'] ==0 )&(df['theta'] ==th )]\n",
    "\n",
    "    plot(df2['T'].loc[(df2['T'] <11 )],df2['SE'].loc[(df2['T'] <11 )],c=listcol[l], zorder=0)\n",
    "    scatter(df2['T'].loc[(df2['T'] <11 )],df2['SE'].loc[(df2['T'] <11 )], edgecolor='k', label=r\"$\\theta =$\"+str(thlabel[l])+r\"$^{\\circ}$\", zorder=2, c=listcol[l])\n",
    "    # plt.scatter(df2['T'],df2['SE'])\n",
    "    xticks(size=20)\n",
    "    yticks(size=20)\n",
    "    pyplot.locator_params(axis='y', nbins=4)\n",
    "    pyplot.locator_params(axis='x', nbins=7)\n",
    "    legend(prop={'size': 15})\n",
    "plt.xlabel('T/J', size=20)\n",
    "plt.ylabel(r\"$\\Sigma''_{k_F}(0, T)$ (meV)\", size=23)\n",
    "plt.tight_layout()    \n",
    "plt.savefig(\"imgs/pap_fig1b\", dpi=400)\n",
    "plt.show()\n",
    "    # ax2 = df2.plot( x='freq',y='SE', c='nu',colormap='viridis', sharex=True, kind='scatter')"
   ]
  },
  {
   "cell_type": "code",
   "execution_count": null,
   "metadata": {},
   "outputs": [],
   "source": [
    "\n",
    "thets=df['theta'].unique()\n",
    "print(thets)\n",
    "df=df.sort_values(by=[ 'freq','T','theta'])\n",
    "listcol=['tab:cyan','limegreen','tab:orange','tab:red']\n",
    "listcol=listcol[::-1]\n",
    "thets=np.array([thets[0],thets[2],thets[3],thets[5]])\n",
    "thlabel=[30,18,12,0]\n",
    "for l,th in enumerate(thets):\n",
    "    df2=df.loc[(df['freq'] ==0 )&(df['theta'] ==th )]\n",
    "\n",
    "    plot(df2['T'].loc[(df2['T'] <11 )],df2['SE'].loc[(df2['T'] <11 )],c=listcol[l], zorder=0)\n",
    "    scatter(df2['T'].loc[(df2['T'] <11 )],df2['SE'].loc[(df2['T'] <11 )], edgecolor='k', label=r\"$\\theta =$\"+str(thlabel[l])+r\"$^{\\circ}$\", zorder=2, c=listcol[l])\n",
    "    # plt.scatter(df2['T'],df2['SE'])\n",
    "    xticks(size=20)\n",
    "    yticks(size=20)\n",
    "    pyplot.locator_params(axis='y', nbins=4)\n",
    "    pyplot.locator_params(axis='x', nbins=7)\n",
    "    legend(prop={'size': 15})\n",
    "plt.xlabel('T/J', size=20)\n",
    "plt.ylabel(r\"$\\Sigma''_{k_F}(0, T)$ (meV)\", size=23)\n",
    "plt.tight_layout()    \n",
    "plt.savefig(\"imgs/pap_fig1b\", dpi=400)\n",
    "plt.show()\n",
    "    # ax2 = df2.plot( x='freq',y='SE', c='nu',colormap='viridis', sharex=True, kind='scatter')"
   ]
  }
 ],
 "metadata": {
  "interpreter": {
   "hash": "aee8b7b246df8f9039afb4144a1f6fd8d2ca17a180786b69acc140d282b71a49"
  },
  "kernelspec": {
   "display_name": "Python 3.9.7 64-bit",
   "name": "python3"
  },
  "language_info": {
   "codemirror_mode": {
    "name": "ipython",
    "version": 3
   },
   "file_extension": ".py",
   "mimetype": "text/x-python",
   "name": "python",
   "nbconvert_exporter": "python",
   "pygments_lexer": "ipython3",
   "version": "3.8.8"
  },
  "orig_nbformat": 4
 },
 "nbformat": 4,
 "nbformat_minor": 2
}
