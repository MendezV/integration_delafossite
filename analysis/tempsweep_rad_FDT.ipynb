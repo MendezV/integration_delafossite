{
 "cells": [
  {
   "cell_type": "code",
   "execution_count": 4,
   "metadata": {},
   "outputs": [
    {
     "name": "stdout",
     "output_type": "stream",
     "text": [
      "Populating the interactive namespace from numpy and matplotlib\n"
     ]
    }
   ],
   "source": [
    "%pylab inline\n",
    "import numpy as np\n",
    "import pandas as pd\n",
    "import os\n",
    "import sys\n",
    "# sys.path.insert(0, '/home/jfm343/Documents/Delafossites/integration_delafossite/Modular')\n",
    "sys.path.insert(0, '/Users/juanmendezvalderrama/Documents/Proyectos/Delafossites/integration_delafossite/Modular')\n",
    "import Dispersion\n",
    "import Lattice\n",
    "from scipy import linalg as la\n",
    "import seaborn as sns"
   ]
  },
  {
   "cell_type": "code",
   "execution_count": 5,
   "metadata": {},
   "outputs": [],
   "source": [
    "pathMAC=\"/Users/juanmendezvalderrama/Documents/Proyectos/Delafossites/integration_delafossite\"\n",
    "pathchow='/home/jfm343/Documents/Delafossites/integration_delafossite'\n",
    "# pathpc='/home/juan/Documents/Projects/BM_bandstructure'\n",
    "pathy=pathMAC"
   ]
  },
  {
   "cell_type": "code",
   "execution_count": 6,
   "metadata": {},
   "outputs": [
    {
     "name": "stdout",
     "output_type": "stream",
     "text": [
      "reading data  /Users/juanmendezvalderrama/Documents/Proyectos/Delafossites/integration_delafossite/data/tempsweep_radial_mac_nodiff__2022-05-01-21-06-20/tempsweep_radial_mac_nodiff__1/data2022-05-01-20-35-25.h5\n",
      "reading data  /Users/juanmendezvalderrama/Documents/Proyectos/Delafossites/integration_delafossite/data/tempsweep_radial_mac_nodiff__2022-05-01-21-06-20/tempsweep_radial_mac_nodiff__5/data2022-05-01-20-56-02.h5\n",
      "reading data  /Users/juanmendezvalderrama/Documents/Proyectos/Delafossites/integration_delafossite/data/tempsweep_radial_mac_nodiff__2022-05-01-21-06-20/tempsweep_radial_mac_nodiff__2/data2022-05-01-20-45-35.h5\n",
      "reading data  /Users/juanmendezvalderrama/Documents/Proyectos/Delafossites/integration_delafossite/data/tempsweep_radial_mac_nodiff__2022-05-01-21-06-20/tempsweep_radial_mac_nodiff__10/data2022-05-01-21-06-19.h5\n"
     ]
    }
   ],
   "source": [
    "path=pathy+'/data/tempsweep_radial_mac_nodiff__2022-05-01-21-06-20'\n",
    "# path=pathy+'/data/tempsweep_radial_mac__2022-05-01-17-27-45'\n",
    "subpaths=os.listdir(path)\n",
    "subpaths=list(filter(lambda a: a != 'inforun', subpaths))\n",
    "def getdatadir(fulpath):\n",
    "    data=[]\n",
    "    for pa in fulpath:\n",
    "        if ('data' in pa): data.append(pa)\n",
    "    return data\n",
    "frames=[]\n",
    "for i, pat in enumerate(subpaths):\n",
    "    # print(pat)\n",
    "    fulpath=path+'/'+pat\n",
    "    subpaths2=os.listdir(fulpath)\n",
    "    data= getdatadir(subpaths2)\n",
    "    fullpath=fulpath+'/'+data[0]\n",
    "    print(\"reading data \",fullpath)\n",
    "    \n",
    "    dff = pd.read_hdf(fullpath)\n",
    "    frames.append(dff)\n",
    "    \n",
    "df=pd.concat(frames).sort_values(['theta', 'nu'])\n"
   ]
  },
  {
   "cell_type": "code",
   "execution_count": 7,
   "metadata": {},
   "outputs": [
    {
     "data": {
      "text/html": [
       "<div>\n",
       "<style scoped>\n",
       "    .dataframe tbody tr th:only-of-type {\n",
       "        vertical-align: middle;\n",
       "    }\n",
       "\n",
       "    .dataframe tbody tr th {\n",
       "        vertical-align: top;\n",
       "    }\n",
       "\n",
       "    .dataframe thead th {\n",
       "        text-align: right;\n",
       "    }\n",
       "</style>\n",
       "<table border=\"1\" class=\"dataframe\">\n",
       "  <thead>\n",
       "    <tr style=\"text-align: right;\">\n",
       "      <th></th>\n",
       "      <th>theta</th>\n",
       "      <th>freq</th>\n",
       "      <th>SE</th>\n",
       "      <th>error</th>\n",
       "      <th>KFX</th>\n",
       "      <th>KFY</th>\n",
       "      <th>T</th>\n",
       "      <th>nu</th>\n",
       "      <th>intP</th>\n",
       "      <th>FS_point</th>\n",
       "      <th>dispname</th>\n",
       "      <th>t1</th>\n",
       "      <th>t2</th>\n",
       "      <th>SFname</th>\n",
       "      <th>J</th>\n",
       "    </tr>\n",
       "  </thead>\n",
       "  <tbody>\n",
       "    <tr>\n",
       "      <th>0</th>\n",
       "      <td>-2.617994</td>\n",
       "      <td>0.000</td>\n",
       "      <td>3.094649</td>\n",
       "      <td>0.002179</td>\n",
       "      <td>-2.401912</td>\n",
       "      <td>-1.393986</td>\n",
       "      <td>1.0</td>\n",
       "      <td>0.5</td>\n",
       "      <td>2000</td>\n",
       "      <td>611</td>\n",
       "      <td>lattice_disp</td>\n",
       "      <td>54.932302</td>\n",
       "      <td>-10.444874</td>\n",
       "      <td>fit_SF_func_nodiffpeak_theta_-150.0</td>\n",
       "      <td>10.34</td>\n",
       "    </tr>\n",
       "    <tr>\n",
       "      <th>1</th>\n",
       "      <td>-2.617994</td>\n",
       "      <td>2.068</td>\n",
       "      <td>3.104704</td>\n",
       "      <td>0.001851</td>\n",
       "      <td>-2.401912</td>\n",
       "      <td>-1.393986</td>\n",
       "      <td>1.0</td>\n",
       "      <td>0.5</td>\n",
       "      <td>2000</td>\n",
       "      <td>611</td>\n",
       "      <td>lattice_disp</td>\n",
       "      <td>54.932302</td>\n",
       "      <td>-10.444874</td>\n",
       "      <td>fit_SF_func_nodiffpeak_theta_-150.0</td>\n",
       "      <td>10.34</td>\n",
       "    </tr>\n",
       "    <tr>\n",
       "      <th>2</th>\n",
       "      <td>-2.617994</td>\n",
       "      <td>4.136</td>\n",
       "      <td>3.131910</td>\n",
       "      <td>0.000962</td>\n",
       "      <td>-2.401912</td>\n",
       "      <td>-1.393986</td>\n",
       "      <td>1.0</td>\n",
       "      <td>0.5</td>\n",
       "      <td>2000</td>\n",
       "      <td>611</td>\n",
       "      <td>lattice_disp</td>\n",
       "      <td>54.932302</td>\n",
       "      <td>-10.444874</td>\n",
       "      <td>fit_SF_func_nodiffpeak_theta_-150.0</td>\n",
       "      <td>10.34</td>\n",
       "    </tr>\n",
       "    <tr>\n",
       "      <th>3</th>\n",
       "      <td>-2.617994</td>\n",
       "      <td>6.204</td>\n",
       "      <td>3.175866</td>\n",
       "      <td>0.005820</td>\n",
       "      <td>-2.401912</td>\n",
       "      <td>-1.393986</td>\n",
       "      <td>1.0</td>\n",
       "      <td>0.5</td>\n",
       "      <td>2000</td>\n",
       "      <td>611</td>\n",
       "      <td>lattice_disp</td>\n",
       "      <td>54.932302</td>\n",
       "      <td>-10.444874</td>\n",
       "      <td>fit_SF_func_nodiffpeak_theta_-150.0</td>\n",
       "      <td>10.34</td>\n",
       "    </tr>\n",
       "    <tr>\n",
       "      <th>4</th>\n",
       "      <td>-2.617994</td>\n",
       "      <td>8.272</td>\n",
       "      <td>3.235698</td>\n",
       "      <td>0.002072</td>\n",
       "      <td>-2.401912</td>\n",
       "      <td>-1.393986</td>\n",
       "      <td>1.0</td>\n",
       "      <td>0.5</td>\n",
       "      <td>2000</td>\n",
       "      <td>611</td>\n",
       "      <td>lattice_disp</td>\n",
       "      <td>54.932302</td>\n",
       "      <td>-10.444874</td>\n",
       "      <td>fit_SF_func_nodiffpeak_theta_-150.0</td>\n",
       "      <td>10.34</td>\n",
       "    </tr>\n",
       "    <tr>\n",
       "      <th>...</th>\n",
       "      <td>...</td>\n",
       "      <td>...</td>\n",
       "      <td>...</td>\n",
       "      <td>...</td>\n",
       "      <td>...</td>\n",
       "      <td>...</td>\n",
       "      <td>...</td>\n",
       "      <td>...</td>\n",
       "      <td>...</td>\n",
       "      <td>...</td>\n",
       "      <td>...</td>\n",
       "      <td>...</td>\n",
       "      <td>...</td>\n",
       "      <td>...</td>\n",
       "      <td>...</td>\n",
       "    </tr>\n",
       "    <tr>\n",
       "      <th>70</th>\n",
       "      <td>-2.617994</td>\n",
       "      <td>144.760</td>\n",
       "      <td>3.379947</td>\n",
       "      <td>0.000246</td>\n",
       "      <td>-2.401912</td>\n",
       "      <td>-1.393986</td>\n",
       "      <td>10.0</td>\n",
       "      <td>0.5</td>\n",
       "      <td>2000</td>\n",
       "      <td>611</td>\n",
       "      <td>lattice_disp</td>\n",
       "      <td>54.932302</td>\n",
       "      <td>-10.444874</td>\n",
       "      <td>fit_SF_func_nodiffpeak_theta_-150.0</td>\n",
       "      <td>10.34</td>\n",
       "    </tr>\n",
       "    <tr>\n",
       "      <th>71</th>\n",
       "      <td>-2.617994</td>\n",
       "      <td>146.828</td>\n",
       "      <td>3.384358</td>\n",
       "      <td>0.000240</td>\n",
       "      <td>-2.401912</td>\n",
       "      <td>-1.393986</td>\n",
       "      <td>10.0</td>\n",
       "      <td>0.5</td>\n",
       "      <td>2000</td>\n",
       "      <td>611</td>\n",
       "      <td>lattice_disp</td>\n",
       "      <td>54.932302</td>\n",
       "      <td>-10.444874</td>\n",
       "      <td>fit_SF_func_nodiffpeak_theta_-150.0</td>\n",
       "      <td>10.34</td>\n",
       "    </tr>\n",
       "    <tr>\n",
       "      <th>72</th>\n",
       "      <td>-2.617994</td>\n",
       "      <td>148.896</td>\n",
       "      <td>3.388794</td>\n",
       "      <td>0.000223</td>\n",
       "      <td>-2.401912</td>\n",
       "      <td>-1.393986</td>\n",
       "      <td>10.0</td>\n",
       "      <td>0.5</td>\n",
       "      <td>2000</td>\n",
       "      <td>611</td>\n",
       "      <td>lattice_disp</td>\n",
       "      <td>54.932302</td>\n",
       "      <td>-10.444874</td>\n",
       "      <td>fit_SF_func_nodiffpeak_theta_-150.0</td>\n",
       "      <td>10.34</td>\n",
       "    </tr>\n",
       "    <tr>\n",
       "      <th>73</th>\n",
       "      <td>-2.617994</td>\n",
       "      <td>150.964</td>\n",
       "      <td>3.393224</td>\n",
       "      <td>0.000226</td>\n",
       "      <td>-2.401912</td>\n",
       "      <td>-1.393986</td>\n",
       "      <td>10.0</td>\n",
       "      <td>0.5</td>\n",
       "      <td>2000</td>\n",
       "      <td>611</td>\n",
       "      <td>lattice_disp</td>\n",
       "      <td>54.932302</td>\n",
       "      <td>-10.444874</td>\n",
       "      <td>fit_SF_func_nodiffpeak_theta_-150.0</td>\n",
       "      <td>10.34</td>\n",
       "    </tr>\n",
       "    <tr>\n",
       "      <th>74</th>\n",
       "      <td>-2.617994</td>\n",
       "      <td>153.032</td>\n",
       "      <td>3.397681</td>\n",
       "      <td>0.000218</td>\n",
       "      <td>-2.401912</td>\n",
       "      <td>-1.393986</td>\n",
       "      <td>10.0</td>\n",
       "      <td>0.5</td>\n",
       "      <td>2000</td>\n",
       "      <td>611</td>\n",
       "      <td>lattice_disp</td>\n",
       "      <td>54.932302</td>\n",
       "      <td>-10.444874</td>\n",
       "      <td>fit_SF_func_nodiffpeak_theta_-150.0</td>\n",
       "      <td>10.34</td>\n",
       "    </tr>\n",
       "  </tbody>\n",
       "</table>\n",
       "<p>300 rows × 15 columns</p>\n",
       "</div>"
      ],
      "text/plain": [
       "       theta     freq        SE     error       KFX       KFY     T   nu  \\\n",
       "0  -2.617994    0.000  3.094649  0.002179 -2.401912 -1.393986   1.0  0.5   \n",
       "1  -2.617994    2.068  3.104704  0.001851 -2.401912 -1.393986   1.0  0.5   \n",
       "2  -2.617994    4.136  3.131910  0.000962 -2.401912 -1.393986   1.0  0.5   \n",
       "3  -2.617994    6.204  3.175866  0.005820 -2.401912 -1.393986   1.0  0.5   \n",
       "4  -2.617994    8.272  3.235698  0.002072 -2.401912 -1.393986   1.0  0.5   \n",
       "..       ...      ...       ...       ...       ...       ...   ...  ...   \n",
       "70 -2.617994  144.760  3.379947  0.000246 -2.401912 -1.393986  10.0  0.5   \n",
       "71 -2.617994  146.828  3.384358  0.000240 -2.401912 -1.393986  10.0  0.5   \n",
       "72 -2.617994  148.896  3.388794  0.000223 -2.401912 -1.393986  10.0  0.5   \n",
       "73 -2.617994  150.964  3.393224  0.000226 -2.401912 -1.393986  10.0  0.5   \n",
       "74 -2.617994  153.032  3.397681  0.000218 -2.401912 -1.393986  10.0  0.5   \n",
       "\n",
       "    intP  FS_point      dispname         t1         t2  \\\n",
       "0   2000       611  lattice_disp  54.932302 -10.444874   \n",
       "1   2000       611  lattice_disp  54.932302 -10.444874   \n",
       "2   2000       611  lattice_disp  54.932302 -10.444874   \n",
       "3   2000       611  lattice_disp  54.932302 -10.444874   \n",
       "4   2000       611  lattice_disp  54.932302 -10.444874   \n",
       "..   ...       ...           ...        ...        ...   \n",
       "70  2000       611  lattice_disp  54.932302 -10.444874   \n",
       "71  2000       611  lattice_disp  54.932302 -10.444874   \n",
       "72  2000       611  lattice_disp  54.932302 -10.444874   \n",
       "73  2000       611  lattice_disp  54.932302 -10.444874   \n",
       "74  2000       611  lattice_disp  54.932302 -10.444874   \n",
       "\n",
       "                                 SFname      J  \n",
       "0   fit_SF_func_nodiffpeak_theta_-150.0  10.34  \n",
       "1   fit_SF_func_nodiffpeak_theta_-150.0  10.34  \n",
       "2   fit_SF_func_nodiffpeak_theta_-150.0  10.34  \n",
       "3   fit_SF_func_nodiffpeak_theta_-150.0  10.34  \n",
       "4   fit_SF_func_nodiffpeak_theta_-150.0  10.34  \n",
       "..                                  ...    ...  \n",
       "70  fit_SF_func_nodiffpeak_theta_-150.0  10.34  \n",
       "71  fit_SF_func_nodiffpeak_theta_-150.0  10.34  \n",
       "72  fit_SF_func_nodiffpeak_theta_-150.0  10.34  \n",
       "73  fit_SF_func_nodiffpeak_theta_-150.0  10.34  \n",
       "74  fit_SF_func_nodiffpeak_theta_-150.0  10.34  \n",
       "\n",
       "[300 rows x 15 columns]"
      ]
     },
     "execution_count": 7,
     "metadata": {},
     "output_type": "execute_result"
    }
   ],
   "source": [
    "df"
   ]
  },
  {
   "cell_type": "code",
   "execution_count": 8,
   "metadata": {},
   "outputs": [
    {
     "data": {
      "image/png": "[encoded data removed]",
      "text/plain": [
       "<Figure size 432x288 with 1 Axes>"
      ]
     },
     "metadata": {
      "needs_background": "light"
     },
     "output_type": "display_data"
    },
    {
     "name": "stdout",
     "output_type": "stream",
     "text": [
      "[ 1.  5.  2. 10.]\n"
     ]
    }
   ],
   "source": [
    "# thets=df['theta'].unique()\n",
    "# tss=df['T'].unique()\n",
    "\n",
    "# for th in thets:\n",
    "#     df2=df.loc[(df['theta'] ==th )&(df['T'] <= 10)]\n",
    "#     ax2 = df2.plot( x='freq',y='SE', c='T',colormap='viridis', sharex=True, kind='scatter')\n",
    "#     plt.title('theta='+str(th*180/np.pi))\n",
    "    \n",
    "# print(tss)\n",
    "\n",
    "thets=df['theta'].unique()\n",
    "tss=df['T'].unique()\n",
    "\n",
    "for th in thets:\n",
    "    df2=df.loc[(df['theta'] ==th )&(df['T'] <= 10)]\n",
    "    plt.scatter(df2['freq'],df2['SE'], c=df2['T'] )\n",
    "    plt.title('theta='+str(th*180/np.pi))\n",
    "    plt.show()\n",
    "    \n",
    "print(tss)"
   ]
  },
  {
   "cell_type": "code",
   "execution_count": 9,
   "metadata": {},
   "outputs": [
    {
     "name": "stdout",
     "output_type": "stream",
     "text": [
      "[-2.61799388]\n",
      "0 0 0\n"
     ]
    },
    {
     "data": {
      "image/png": "[encoded data removed]",
      "text/plain": [
       "<Figure size 1332x756 with 6 Axes>"
      ]
     },
     "metadata": {
      "needs_background": "light"
     },
     "output_type": "display_data"
    }
   ],
   "source": [
    "N,M=2,3\n",
    "figure, axis = plt.subplots(N,M)\n",
    "figure.set_size_inches(18.5, 10.5)\n",
    "thets=df['theta'].unique()\n",
    "print(thets)\n",
    "df=df.sort_values(by=[ 'freq','T','theta'])\n",
    "for l,th in enumerate(thets):\n",
    "    df2=df.loc[(df['theta'] ==th )]\n",
    "    Ts=df2['T'].unique()\n",
    "    i=int(l%N)\n",
    "    j=int((l%M))\n",
    "    print(l,i,j)\n",
    "    for T in [1.0,2.0, 5.0,10.0]:\n",
    "        \n",
    "        df3=df2.loc[(df2['T'] ==T )]\n",
    "        # df2['SE'].loc[(df['nu'] ==nu )]\n",
    "        # plt.scatter(df3['freq'],df3['SE']-df3.iloc[0]['SE'], label=r'$\\nu$='+str(nu))\n",
    "        x=df3['freq']\n",
    "        y=df3['SE']#-df3.iloc[1]['SE']\n",
    "            \n",
    "        err=df3['error']\n",
    "        axis[i,j].errorbar(x[1:],(y[1:]),yerr=err[1:] ,   label=r'$T$='+str(T), fmt='o')\n",
    "        # axis[i,j].scatter(x[1:],(y[1:]) ,   label=r'$T$='+str(T),s=3)\n",
    "        axis[i,j].set_xlim([0,150])\n",
    "        # print(df3.iloc[0]['SE'])\n",
    "        \n",
    "    axis[i,j].set_title(r'$\\theta$='+str(th*180/np.pi))\n",
    "    axis[i,j].set_ylabel(r\"Im($\\tilde{\\Sigma}(k,\\omega, T)-\\tilde{\\Sigma}(k,0, T)$) (mev)\")\n",
    "    axis[i,j].set_xlabel(r\"$\\omega$ (mev)\")\n",
    "    axis[i,j].legend()\n",
    "plt.show()\n",
    "    # ax2 = df2.plot( x='freq',y='SE', c='nu',colormap='viridis', sharex=True, kind='scatter')"
   ]
  },
  {
   "cell_type": "code",
   "execution_count": 10,
   "metadata": {},
   "outputs": [
    {
     "name": "stdout",
     "output_type": "stream",
     "text": [
      "-150.00000000000003\n",
      "0 0 0\n"
     ]
    },
    {
     "data": {
      "image/png": "[encoded data removed]",
      "text/plain": [
       "<Figure size 432x288 with 1 Axes>"
      ]
     },
     "metadata": {
      "needs_background": "light"
     },
     "output_type": "display_data"
    }
   ],
   "source": [
    "N,M=1,1\n",
    "figure, axis = plt.subplots(N,M)\n",
    "# figure.set_size_inches(18.5, 10.5)\n",
    "thets=[df['theta'].unique()[0]]\n",
    "print(df['theta'].unique()[0]*180/np.pi)\n",
    "df=df.sort_values(by=['freq','T'])\n",
    "for l,th in enumerate(thets):\n",
    "    df2=df.loc[(df['theta'] ==th )]\n",
    "    Ts=df2['T'].unique()\n",
    "    i=int(l%N)\n",
    "    j=int((l%M))\n",
    "    print(l,i,j)\n",
    "    a=[]\n",
    "    for T in [1.0,2.0,5.0,10.0]:\n",
    "        \n",
    "        df3=df2.loc[(df2['T'] ==T )]\n",
    "        # df2['SE'].loc[(df['nu'] ==nu )]\n",
    "        # plt.scatter(df3['freq'],df3['SE']-df3.iloc[0]['SE'], label=r'$\\nu$='+str(nu))\n",
    "        x=df3['freq']\n",
    "        y=df3['SE']-df3.iloc[1]['SE']\n",
    "        \n",
    "            \n",
    "        err=df3['error']\n",
    "        axis.errorbar(x[1::2],(y[1::2]),yerr=err[1::2] ,   label=r'$T$='+str(T), fmt='.', color=cm.hot(T/15), zorder=T)\n",
    "        # print(df3.iloc[0]['SE'])\n",
    "        a.append(df3.iloc[0]['SE'])\n",
    "    \n",
    "    \n",
    "    # axis.set_title(r'$\\theta$='+str(th*180/np.pi))\n",
    "    # axis.set_ylabel(r\"$\\tilde{\\Sigma}''(k,\\omega, T)-\\tilde{\\Sigma}(k,0, T)$\", size=20)\n",
    "    axis.set_ylabel(r\"$\\Delta \\Sigma''(k_F,\\omega, T)$ (mev)\", size=20)\n",
    "    axis.set_xlabel(r\"$\\omega$ (mev)\", size=20)\n",
    "    plt.xticks(size=20)\n",
    "    plt.yticks(size=20)\n",
    "    pyplot.locator_params(axis='y', nbins=5)\n",
    "    pyplot.locator_params(axis='x', nbins=7)\n",
    "    axis.legend(prop={'size': 15}, loc=4)\n",
    "    plt.tight_layout()\n",
    "plt.savefig(\"imgs/fig1b\")"
   ]
  },
  {
   "cell_type": "code",
   "execution_count": 11,
   "metadata": {},
   "outputs": [
    {
     "ename": "IndexError",
     "evalue": "index 4 is out of bounds for axis 0 with size 1",
     "output_type": "error",
     "traceback": [
      "\u001b[0;31m---------------------------------------------------------------------------\u001b[0m",
      "\u001b[0;31mIndexError\u001b[0m                                Traceback (most recent call last)",
      "\u001b[0;32m/var/folders/s3/40l5x__x3hd75xdyv2tqmfyh0000gn/T/ipykernel_7208/1894017354.py\u001b[0m in \u001b[0;36m<module>\u001b[0;34m\u001b[0m\n\u001b[1;32m      2\u001b[0m \u001b[0mfigure\u001b[0m\u001b[0;34m,\u001b[0m \u001b[0maxis\u001b[0m \u001b[0;34m=\u001b[0m \u001b[0mplt\u001b[0m\u001b[0;34m.\u001b[0m\u001b[0msubplots\u001b[0m\u001b[0;34m(\u001b[0m\u001b[0mN\u001b[0m\u001b[0;34m,\u001b[0m\u001b[0mM\u001b[0m\u001b[0;34m)\u001b[0m\u001b[0;34m\u001b[0m\u001b[0;34m\u001b[0m\u001b[0m\n\u001b[1;32m      3\u001b[0m \u001b[0;31m# figure.set_size_inches(18.5, 10.5)\u001b[0m\u001b[0;34m\u001b[0m\u001b[0;34m\u001b[0m\u001b[0m\n\u001b[0;32m----> 4\u001b[0;31m \u001b[0mthets\u001b[0m\u001b[0;34m=\u001b[0m\u001b[0;34m[\u001b[0m\u001b[0mdf\u001b[0m\u001b[0;34m[\u001b[0m\u001b[0;34m'theta'\u001b[0m\u001b[0;34m]\u001b[0m\u001b[0;34m.\u001b[0m\u001b[0munique\u001b[0m\u001b[0;34m(\u001b[0m\u001b[0;34m)\u001b[0m\u001b[0;34m[\u001b[0m\u001b[0;36m4\u001b[0m\u001b[0;34m]\u001b[0m\u001b[0;34m]\u001b[0m\u001b[0;34m\u001b[0m\u001b[0;34m\u001b[0m\u001b[0m\n\u001b[0m\u001b[1;32m      5\u001b[0m \u001b[0mprint\u001b[0m\u001b[0;34m(\u001b[0m\u001b[0mthets\u001b[0m\u001b[0;34m)\u001b[0m\u001b[0;34m\u001b[0m\u001b[0;34m\u001b[0m\u001b[0m\n\u001b[1;32m      6\u001b[0m \u001b[0mdf\u001b[0m\u001b[0;34m=\u001b[0m\u001b[0mdf\u001b[0m\u001b[0;34m.\u001b[0m\u001b[0msort_values\u001b[0m\u001b[0;34m(\u001b[0m\u001b[0mby\u001b[0m\u001b[0;34m=\u001b[0m\u001b[0;34m[\u001b[0m\u001b[0;34m'freq'\u001b[0m\u001b[0;34m,\u001b[0m\u001b[0;34m'T'\u001b[0m\u001b[0;34m]\u001b[0m\u001b[0;34m)\u001b[0m\u001b[0;34m\u001b[0m\u001b[0;34m\u001b[0m\u001b[0m\n",
      "\u001b[0;31mIndexError\u001b[0m: index 4 is out of bounds for axis 0 with size 1"
     ]
    },
    {
     "data": {
      "image/png": "[encoded data removed]",
      "text/plain": [
       "<Figure size 432x288 with 1 Axes>"
      ]
     },
     "metadata": {
      "needs_background": "light"
     },
     "output_type": "display_data"
    }
   ],
   "source": [
    "N,M=1,1\n",
    "figure, axis = plt.subplots(N,M)\n",
    "# figure.set_size_inches(18.5, 10.5)\n",
    "thets=[df['theta'].unique()[4]]\n",
    "print(thets)\n",
    "df=df.sort_values(by=['freq','T'])\n",
    "for l,th in enumerate(thets):\n",
    "    df2=df.loc[(df['theta'] ==th )]\n",
    "    Ts=df2['T'].unique()\n",
    "    i=int(l%N)\n",
    "    j=int((l%M))\n",
    "    print(l,i,j)\n",
    "    a=[]\n",
    "    for T in [1.0,2.0,3.0, 4.0 ,5.0]:\n",
    "        \n",
    "        df3=df2.loc[(df2['T'] ==T )]\n",
    "        # df2['SE'].loc[(df['nu'] ==nu )]\n",
    "        # plt.scatter(df3['freq'],df3['SE']-df3.iloc[0]['SE'], label=r'$\\nu$='+str(nu))\n",
    "        x=df3['freq']\n",
    "        y=df3['SE']#-df3.iloc[1]['SE']\n",
    "        \n",
    "            \n",
    "        err=df3['error']\n",
    "        axis.errorbar(x[1:],(y[1:]),yerr=err[1:] ,   label=r'$T$='+str(T), fmt='.', color=cm.hot(T/15))\n",
    "        # print(df3.iloc[0]['SE'])\n",
    "        a.append(df3.iloc[0]['SE'])\n",
    "    \n",
    "    \n",
    "    # axis.set_title(r'$\\theta$='+str(th*180/np.pi))\n",
    "    # axis.set_ylabel(r\"$\\tilde{\\Sigma}''(k,\\omega, T)-\\tilde{\\Sigma}(k,0, T)$\", size=20)\n",
    "    axis.set_ylabel(r\"$\\Sigma''(k_F,\\omega, T)$ (mev)\", size=20)\n",
    "    axis.set_xlabel(r\"$\\omega$ (mev)\", size=20)\n",
    "    plt.xticks(size=20)\n",
    "    plt.yticks(size=20)\n",
    "    pyplot.locator_params(axis='y', nbins=5)\n",
    "    pyplot.locator_params(axis='x', nbins=7)\n",
    "    axis.legend(prop={'size': 13}, loc=4, ncol=2)\n",
    "    plt.tight_layout()\n",
    "plt.savefig(\"imgs/fig2c\")"
   ]
  },
  {
   "cell_type": "code",
   "execution_count": null,
   "metadata": {},
   "outputs": [
    {
     "name": "stdout",
     "output_type": "stream",
     "text": [
      "[-2.61799388 -2.51327412 -2.40855437 -2.30383461 -2.19911486 -2.0943951 ]\n"
     ]
    },
    {
     "data": {
      "image/png": "[encoded data removed]",
      "text/plain": [
       "<Figure size 432x288 with 1 Axes>"
      ]
     },
     "metadata": {
      "needs_background": "light"
     },
     "output_type": "display_data"
    }
   ],
   "source": [
    "\n",
    "thets=df['theta'].unique()\n",
    "print(thets)\n",
    "df=df.sort_values(by=[ 'freq','T','theta'])\n",
    "for l,th in enumerate(thets):\n",
    "    df2=df.loc[(df['freq'] ==0 )&(df['theta'] ==th )]\n",
    "    plt.plot(df2['T'],df2['SE'])\n",
    "    plt.scatter(df2['T'],df2['SE'])\n",
    "    \n",
    "plt.show()\n",
    "    # ax2 = df2.plot( x='freq',y='SE', c='nu',colormap='viridis', sharex=True, kind='scatter')"
   ]
  },
  {
   "cell_type": "code",
   "execution_count": null,
   "metadata": {},
   "outputs": [],
   "source": []
  },
  {
   "cell_type": "code",
   "execution_count": null,
   "metadata": {},
   "outputs": [],
   "source": []
  }
 ],
 "metadata": {
  "interpreter": {
   "hash": "aee8b7b246df8f9039afb4144a1f6fd8d2ca17a180786b69acc140d282b71a49"
  },
  "kernelspec": {
   "display_name": "Python 3.9.7 64-bit",
   "name": "python3"
  },
  "language_info": {
   "codemirror_mode": {
    "name": "ipython",
    "version": 3
   },
   "file_extension": ".py",
   "mimetype": "text/x-python",
   "name": "python",
   "nbconvert_exporter": "python",
   "pygments_lexer": "ipython3",
   "version": "3.9.7"
  },
  "orig_nbformat": 4
 },
 "nbformat": 4,
 "nbformat_minor": 2
}
