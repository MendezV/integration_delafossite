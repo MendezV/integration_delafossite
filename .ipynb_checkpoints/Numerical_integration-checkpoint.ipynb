{
 "cells": [
  {
   "cell_type": "code",
   "execution_count": 1,
   "metadata": {},
   "outputs": [
    {
     "name": "stdout",
     "output_type": "stream",
     "text": [
      "Populating the interactive namespace from numpy and matplotlib\n"
     ]
    }
   ],
   "source": [
    "%pylab inline"
   ]
  },
  {
   "cell_type": "code",
   "execution_count": 57,
   "metadata": {},
   "outputs": [],
   "source": [
    "#defining triangular lattice\n",
    "a=1\n",
    "a_1=a*np.array([1,0,0])\n",
    "a_2=a*np.array([1/2,np.sqrt(3)/2,0])\n",
    "zhat=np.array([0,0,1])\n",
    "\n",
    "Vol_real=np.dot(np.cross(a_1,a_2),zhat)\n",
    "b_1=np.cross(a_2,zhat)*(2*np.pi)/Vol_real\n",
    "b_2=np.cross(zhat,a_1)*(2*np.pi)/Vol_real\n",
    "Vol_rec=np.dot(np.cross(b_1,b_2),zhat)\n",
    "#print(np.dot(a_2,b_2),np.dot(a_1,b_1))\n",
    "\n",
    "Np=20\n",
    "n1=np.arange(-Np,Np+1)\n",
    "n2=np.arange(-Np,Np+1)\n",
    "\n",
    "a_1=a_1[0:2]\n",
    "a_2=a_2[0:2]\n",
    "b_1=b_1[0:2]\n",
    "b_2=b_2[0:2]"
   ]
  },
  {
   "cell_type": "code",
   "execution_count": 58,
   "metadata": {},
   "outputs": [],
   "source": [
    "#defining the parameter gamma in the static structure factor\n",
    "def gamma(kx,ky):\n",
    "    \n",
    "    a_1=a*np.array([1,0])\n",
    "    a_2=a*np.array([1/2,np.sqrt(3)/2])\n",
    "    \n",
    "    #creating lattice\n",
    "    Np=4\n",
    "    n1=np.arange(-Np,Np+1)\n",
    "    n2=np.arange(-Np,Np+1)\n",
    "    Recip_lat=[]\n",
    "    for i in n1:\n",
    "        for j in n2:\n",
    "            point=a_1*i+a_2*j\n",
    "            Recip_lat.append(point)\n",
    "    \n",
    "    #getting the nearest neighbours to the gamma point\n",
    "    Recip_lat_arr=np.array(Recip_lat)\n",
    "    dist=np.round(np.sqrt(np.sum(Recip_lat_arr**2, axis=1)),decimals=8)\n",
    "    sorted_dist=sort(list(set(dist)) )\n",
    "    nns=Recip_lat_arr[np.where( (dist<sorted_dist[2]) *( dist>0 ))[0]]\n",
    "    e=0\n",
    "    for nn in nns:\n",
    "        e=e+exp(1j*(nn[0]*kx+nn[1]*ky))\n",
    "    \n",
    "    return np.real(e)\n",
    "\n"
   ]
  },
  {
   "cell_type": "code",
   "execution_count": 59,
   "metadata": {},
   "outputs": [],
   "source": [
    "\n",
    "kx=np.linspace(-2*np.pi/a,2*np.pi/a,100)\n",
    "ky=np.linspace(-2*np.pi/a,2*np.pi/a,100)\n",
    "\n",
    "kxx, kyy =meshgrid(kx,ky)"
   ]
  },
  {
   "cell_type": "code",
   "execution_count": 60,
   "metadata": {},
   "outputs": [
    {
     "data": {
      "text/plain": [
       "<matplotlib.image.AxesImage at 0x7f94c083f990>"
      ]
     },
     "execution_count": 60,
     "metadata": {},
     "output_type": "execute_result"
    },
    {
     "data": {
      "image/png": "[encoded data removed]",
      "text/plain": [
       "<Figure size 432x288 with 1 Axes>"
      ]
     },
     "metadata": {
      "needs_background": "light"
     },
     "output_type": "display_data"
    }
   ],
   "source": [
    "imshow(1/(3.01+0.5*gamma(kxx,kyy)))"
   ]
  },
  {
   "cell_type": "code",
   "execution_count": 61,
   "metadata": {},
   "outputs": [],
   "source": [
    "def Sf(kx,ky,lam,T):\n",
    "    return 1/(lam+(1/T)*gamma(kx,ky))"
   ]
  },
  {
   "cell_type": "code",
   "execution_count": 62,
   "metadata": {},
   "outputs": [],
   "source": [
    "#getting the first brilloin zone from the Voronoi decomp of the recipprocal lattice\n",
    "#input: reciprocal lattice vectors\n",
    "#output: Points that delimit the FBZ - \n",
    "#high symmetry points (for now just the triangular lattice will be implemented)\n",
    "from scipy.spatial import Voronoi, voronoi_plot_2d\n",
    "def FBZ_points(b_1,b_2):\n",
    "    #creating reciprocal lattice\n",
    "    Np=4\n",
    "    n1=np.arange(-Np,Np+1)\n",
    "    n2=np.arange(-Np,Np+1)\n",
    "    Recip_lat=[]\n",
    "    for i in n1:\n",
    "        for j in n2:\n",
    "            point=b_1*i+b_2*j\n",
    "            Recip_lat.append(point)\n",
    "    \n",
    "    #getting the nearest neighbours to the gamma point\n",
    "    Recip_lat_arr=np.array(Recip_lat)\n",
    "    dist=np.round(np.sqrt(np.sum(Recip_lat_arr**2, axis=1)),decimals=10)\n",
    "    sorted_dist=sort(list(set(dist)) )\n",
    "    points=Recip_lat_arr[np.where(dist<sorted_dist[2])[0]]\n",
    "    \n",
    "    #getting the voronoi decomposition of the gamma point and the nearest neighbours\n",
    "    vor = Voronoi(points)\n",
    "    Vertices=(vor.vertices)\n",
    "    \n",
    "    #ordering the points counterclockwise in the -pi,pi range\n",
    "    angles_list=list(np.arctan2(Vertices[:,1],Vertices[:,0]))\n",
    "    Vertices_list=list(Vertices)\n",
    "    \n",
    "    #joint sorting the two lists for angles and vertices for convenience later. \n",
    "    # the linear plot routine requires the points to be in order\n",
    "    # atan2 takes into acount quadrant to get the sign of the angle \n",
    "    angles_list, Vertices_list = (list(t) for t in zip(*sorted(zip(angles_list, Vertices_list))))\n",
    "    \n",
    "    ##getting the M points as the average of consecutive K- Kp points\n",
    "    Edges_list=[]\n",
    "    for i in range(len(Vertices_list)):\n",
    "        Edges_list.append([(Vertices_list[i][0]+Vertices_list[i-1][0])/2,(Vertices_list[i][1]+Vertices_list[i-1][1])/2])\n",
    "    \n",
    "    Gamma=[0,0]\n",
    "    K=Vertices_list[0::2]\n",
    "    Kp=Vertices_list[1::2]\n",
    "    M=Edges_list[0::2]\n",
    "    Mp=Edges_list[1::2]\n",
    "    \n",
    "    return Vertices_list, Gamma, K, Kp, M, Mp"
   ]
  },
  {
   "cell_type": "code",
   "execution_count": 63,
   "metadata": {},
   "outputs": [],
   "source": [
    "Vertices_list, Gamma, K, Kp, M, Mp=FBZ_points(b_1,b_2)"
   ]
  },
  {
   "cell_type": "code",
   "execution_count": 65,
   "metadata": {},
   "outputs": [],
   "source": [
    "#creating reciprocal lattice preparing for k-point integration\n",
    "Recip_lat=[]\n",
    "for i in n1:\n",
    "    for j in n2:\n",
    "        point=b_1*i+b_2*j\n",
    "        Recip_lat.append(point)\n"
   ]
  },
  {
   "cell_type": "code",
   "execution_count": 67,
   "metadata": {},
   "outputs": [
    {
     "data": {
      "image/png": "[encoded data removed]",
      "text/plain": [
       "<Figure size 432x288 with 1 Axes>"
      ]
     },
     "metadata": {
      "needs_background": "light"
     },
     "output_type": "display_data"
    }
   ],
   "source": [
    "\n",
    "t=np.linspace(0,1,1000)\n",
    "pol=np.array(Vertices_list).T\n",
    "for i in range(6):\n",
    "    plt.plot(pol[0,i%6]*(1-t)+t*pol[0,(i+1)%6],pol[1,i%6]*(1-t)+t*pol[1,(i+1)%6],c='k')\n",
    "\n",
    "#generating k points\n",
    "kx=np.linspace(-5*np.pi/a,5*np.pi/a,50)\n",
    "ky=np.linspace(-5*np.pi/a,5*np.pi/a,50)\n",
    "\n",
    "#square sampling\n",
    "#kxx,kyy=np.meshgrid(kx,ky)\n",
    "\n",
    "#Shrinking the reciprocal lattice\n",
    "scale_fac=0.035\n",
    "Recip_lat_arr=scale_fac*np.array(Recip_lat)\n",
    "kxx=Recip_lat_arr[:,0]\n",
    "kyy=Recip_lat_arr[:,1]\n",
    "\n",
    "phi=2*np.pi/6 #rotation angle \n",
    "\n",
    "#rotating and cleaving if absolute value of rotated point's y coordinate exceeds top boundary of 1BZ\n",
    "kxx_rot=np.cos(phi)*kxx-np.sin(phi)*kyy\n",
    "kyy_rot=np.sin(phi)*kxx+np.cos(phi)*kyy\n",
    "\n",
    "kxx2=kxx[np.where(np.abs(kyy_rot)<K[2][1])]\n",
    "kyy2=kyy[np.where(np.abs(kyy_rot)<K[2][1])]\n",
    "\n",
    "#rotating and cleaving if absolute value of rotated point's y coordinate exceeds top boundary of 1BZ\n",
    "kxx_rot2=np.cos(-phi)*kxx2-np.sin(-phi)*kyy2\n",
    "kyy_rot2=np.sin(-phi)*kxx2+np.cos(-phi)*kyy2\n",
    "\n",
    "kxx3=kxx2[np.where(np.abs(kyy_rot2)<K[2][1])]\n",
    "kyy3=kyy2[np.where(np.abs(kyy_rot2)<K[2][1])]\n",
    "\n",
    "#cleaving if absolute value of point's y coordinate exceeds top boundary of 1BZ\n",
    "KX=kxx3[np.where(np.abs(kyy3)<K[2][1])]\n",
    "KY=kyy3[np.where(np.abs(kyy3)<K[2][1])]\n",
    "\n",
    "#np.where(np.abs(kyy)<K_point_3[1] and \n",
    "#scatter(kxx_rot,kyy_rot)\n",
    "#scatter(kxx,kyy)\n",
    "scatter(KX,KY)\n",
    "plt.gca().set_aspect('equal', adjustable='box')"
   ]
  },
  {
   "cell_type": "code",
   "execution_count": null,
   "metadata": {},
   "outputs": [],
   "source": [
    "Nlam=1000\n",
    "lambds=np.linspace(0,3,Nlam)\n",
    "integs=[]\n",
    "for i in range(Nlam):\n",
    "    "
   ]
  }
 ],
 "metadata": {
  "kernelspec": {
   "display_name": "Python 3",
   "language": "python",
   "name": "python3"
  },
  "language_info": {
   "codemirror_mode": {
    "name": "ipython",
    "version": 3
   },
   "file_extension": ".py",
   "mimetype": "text/x-python",
   "name": "python",
   "nbconvert_exporter": "python",
   "pygments_lexer": "ipython3",
   "version": "3.7.4"
  }
 },
 "nbformat": 4,
 "nbformat_minor": 2
}
